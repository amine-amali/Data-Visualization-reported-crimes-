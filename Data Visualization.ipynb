{
 "cells": [
  {
   "cell_type": "markdown",
   "id": "c1cd2610",
   "metadata": {},
   "source": [
    "# **Data Visualization of Sussex reported crimes**"
   ]
  },
  {
   "cell_type": "markdown",
   "id": "9aa97ce3",
   "metadata": {},
   "source": [
    "**Visualizing crime data collected by the Sussex Police in UK. Data was downloaded from https://data.police.uk/data/  between 11/2019 and 11/2021.**"
   ]
  },
  {
   "cell_type": "code",
   "execution_count": 79,
   "id": "60db6fbf",
   "metadata": {},
   "outputs": [],
   "source": [
    "import matplotlib.pyplot as plt\n",
    "import seaborn as sns\n",
    "import pandas as pd\n",
    "import os\n",
    "import ipywidgets as widgets\n",
    "from IPython.display import display,clear_output\n",
    "from collections import Counter\n",
    "import numpy as np"
   ]
  },
  {
   "cell_type": "markdown",
   "id": "8ca99f59",
   "metadata": {},
   "source": [
    "## Data Preparation"
   ]
  },
  {
   "cell_type": "code",
   "execution_count": 74,
   "id": "a984e158",
   "metadata": {},
   "outputs": [],
   "source": [
    "suffix = '-sussex-street.csv'\n",
    "prefix = './data/'\n",
    "Month = ['2019-11','2019-12']+['2020-0'+str(i) for i in range(1,10)]+['2020-11','2020-12']+['2021-0'+str(i) for i in range(1,10)]+['2021-11']"
   ]
  },
  {
   "cell_type": "code",
   "execution_count": 75,
   "id": "81499837",
   "metadata": {},
   "outputs": [],
   "source": [
    "data_names = [prefix+month+suffix for month in Month]"
   ]
  },
  {
   "cell_type": "code",
   "execution_count": 76,
   "id": "f31ef1eb",
   "metadata": {},
   "outputs": [
    {
     "data": {
      "text/html": [
       "<div>\n",
       "<style scoped>\n",
       "    .dataframe tbody tr th:only-of-type {\n",
       "        vertical-align: middle;\n",
       "    }\n",
       "\n",
       "    .dataframe tbody tr th {\n",
       "        vertical-align: top;\n",
       "    }\n",
       "\n",
       "    .dataframe thead th {\n",
       "        text-align: right;\n",
       "    }\n",
       "</style>\n",
       "<table border=\"1\" class=\"dataframe\">\n",
       "  <thead>\n",
       "    <tr style=\"text-align: right;\">\n",
       "      <th></th>\n",
       "      <th>Crime ID</th>\n",
       "      <th>Month</th>\n",
       "      <th>Reported by</th>\n",
       "      <th>Falls within</th>\n",
       "      <th>Longitude</th>\n",
       "      <th>Latitude</th>\n",
       "      <th>Location</th>\n",
       "      <th>LSOA code</th>\n",
       "      <th>LSOA name</th>\n",
       "      <th>Crime type</th>\n",
       "      <th>Last outcome category</th>\n",
       "      <th>Context</th>\n",
       "    </tr>\n",
       "  </thead>\n",
       "  <tbody>\n",
       "    <tr>\n",
       "      <th>0</th>\n",
       "      <td>NaN</td>\n",
       "      <td>2019-11</td>\n",
       "      <td>Sussex Police</td>\n",
       "      <td>Sussex Police</td>\n",
       "      <td>-0.229374</td>\n",
       "      <td>50.837739</td>\n",
       "      <td>On or near Park Way</td>\n",
       "      <td>E01031349</td>\n",
       "      <td>Adur 001A</td>\n",
       "      <td>Anti-social behaviour</td>\n",
       "      <td>NaN</td>\n",
       "      <td>NaN</td>\n",
       "    </tr>\n",
       "    <tr>\n",
       "      <th>1</th>\n",
       "      <td>8ca26f2c271663e696baa908b0c028c72ca93e43cdfc31...</td>\n",
       "      <td>2019-11</td>\n",
       "      <td>Sussex Police</td>\n",
       "      <td>Sussex Police</td>\n",
       "      <td>-0.231764</td>\n",
       "      <td>50.837253</td>\n",
       "      <td>On or near Milton Drive</td>\n",
       "      <td>E01031349</td>\n",
       "      <td>Adur 001A</td>\n",
       "      <td>Criminal damage and arson</td>\n",
       "      <td>Unable to prosecute suspect</td>\n",
       "      <td>NaN</td>\n",
       "    </tr>\n",
       "    <tr>\n",
       "      <th>2</th>\n",
       "      <td>e4e9fec158a474ea2002fdb155f476f114800887f9ad8a...</td>\n",
       "      <td>2019-11</td>\n",
       "      <td>Sussex Police</td>\n",
       "      <td>Sussex Police</td>\n",
       "      <td>-0.221144</td>\n",
       "      <td>50.836049</td>\n",
       "      <td>On or near Manor Close</td>\n",
       "      <td>E01031349</td>\n",
       "      <td>Adur 001A</td>\n",
       "      <td>Violence and sexual offences</td>\n",
       "      <td>Unable to prosecute suspect</td>\n",
       "      <td>NaN</td>\n",
       "    </tr>\n",
       "    <tr>\n",
       "      <th>3</th>\n",
       "      <td>NaN</td>\n",
       "      <td>2019-11</td>\n",
       "      <td>Sussex Police</td>\n",
       "      <td>Sussex Police</td>\n",
       "      <td>-0.231736</td>\n",
       "      <td>50.839870</td>\n",
       "      <td>On or near Southwick Street</td>\n",
       "      <td>E01031350</td>\n",
       "      <td>Adur 001B</td>\n",
       "      <td>Anti-social behaviour</td>\n",
       "      <td>NaN</td>\n",
       "      <td>NaN</td>\n",
       "    </tr>\n",
       "    <tr>\n",
       "      <th>4</th>\n",
       "      <td>NaN</td>\n",
       "      <td>2019-11</td>\n",
       "      <td>Sussex Police</td>\n",
       "      <td>Sussex Police</td>\n",
       "      <td>-0.230931</td>\n",
       "      <td>50.843887</td>\n",
       "      <td>On or near Summersdeane</td>\n",
       "      <td>E01031350</td>\n",
       "      <td>Adur 001B</td>\n",
       "      <td>Anti-social behaviour</td>\n",
       "      <td>NaN</td>\n",
       "      <td>NaN</td>\n",
       "    </tr>\n",
       "  </tbody>\n",
       "</table>\n",
       "</div>"
      ],
      "text/plain": [
       "                                            Crime ID    Month    Reported by  \\\n",
       "0                                                NaN  2019-11  Sussex Police   \n",
       "1  8ca26f2c271663e696baa908b0c028c72ca93e43cdfc31...  2019-11  Sussex Police   \n",
       "2  e4e9fec158a474ea2002fdb155f476f114800887f9ad8a...  2019-11  Sussex Police   \n",
       "3                                                NaN  2019-11  Sussex Police   \n",
       "4                                                NaN  2019-11  Sussex Police   \n",
       "\n",
       "    Falls within  Longitude   Latitude                     Location  \\\n",
       "0  Sussex Police  -0.229374  50.837739          On or near Park Way   \n",
       "1  Sussex Police  -0.231764  50.837253      On or near Milton Drive   \n",
       "2  Sussex Police  -0.221144  50.836049       On or near Manor Close   \n",
       "3  Sussex Police  -0.231736  50.839870  On or near Southwick Street   \n",
       "4  Sussex Police  -0.230931  50.843887      On or near Summersdeane   \n",
       "\n",
       "   LSOA code  LSOA name                    Crime type  \\\n",
       "0  E01031349  Adur 001A         Anti-social behaviour   \n",
       "1  E01031349  Adur 001A     Criminal damage and arson   \n",
       "2  E01031349  Adur 001A  Violence and sexual offences   \n",
       "3  E01031350  Adur 001B         Anti-social behaviour   \n",
       "4  E01031350  Adur 001B         Anti-social behaviour   \n",
       "\n",
       "         Last outcome category  Context  \n",
       "0                          NaN      NaN  \n",
       "1  Unable to prosecute suspect      NaN  \n",
       "2  Unable to prosecute suspect      NaN  \n",
       "3                          NaN      NaN  \n",
       "4                          NaN      NaN  "
      ]
     },
     "execution_count": 76,
     "metadata": {},
     "output_type": "execute_result"
    }
   ],
   "source": [
    "df = pd.read_csv(data_names[0])\n",
    "df.head()"
   ]
  },
  {
   "cell_type": "markdown",
   "id": "2efa3882",
   "metadata": {},
   "source": [
    "## Distribution of crimes over the months"
   ]
  },
  {
   "cell_type": "code",
   "execution_count": 93,
   "id": "a7483e54",
   "metadata": {},
   "outputs": [
    {
     "data": {
      "application/vnd.jupyter.widget-view+json": {
       "model_id": "b6a553f1ed0b459fa3add36591acbce3",
       "version_major": 2,
       "version_minor": 0
      },
      "text/plain": [
       "Dropdown(description='Month :', options=('2019-11', '2019-12', '2020-01', '2020-02', '2020-03', '2020-04', '20…"
      ]
     },
     "metadata": {},
     "output_type": "display_data"
    },
    {
     "data": {
      "application/vnd.jupyter.widget-view+json": {
       "model_id": "8157860c1e5844e89be402cc3862a0ec",
       "version_major": 2,
       "version_minor": 0
      },
      "text/plain": [
       "Output()"
      ]
     },
     "metadata": {},
     "output_type": "display_data"
    }
   ],
   "source": [
    "w = widgets.Dropdown(\n",
    "    options=[data_name[7:14] for data_name in data_names],\n",
    "    description='Month :',\n",
    ")\n",
    "plt.rcParams.update({'font.size': 20})\n",
    "\n",
    "out = widgets.Output()\n",
    "\n",
    "def on_change(change):\n",
    "    \n",
    "        if change['type'] == 'change' and change['name'] == 'value':\n",
    "            with out:\n",
    "                out.clear_output()\n",
    "                name = prefix+change['new']+suffix\n",
    "                df = pd.read_csv(name)\n",
    "\n",
    "                crime_type = dict(Counter(df['Crime type']))\n",
    "                crime_type = crime_type.keys()\n",
    "\n",
    "                frequency_0 = df['Crime type'].value_counts(normalize=True).tolist()\n",
    "                frequency_1 = df['Crime type'].value_counts(normalize=False).tolist()\n",
    "\n",
    "                cmap = plt.get_cmap(\"tab20c\")\n",
    "                colors = cmap(np.arange(len(frequency_0)))\n",
    "\n",
    "                fig1, ax1 = plt.subplots(2,figsize=(20, 20))\n",
    "                fig1.suptitle(\"Distribution of Crime type in \"+change['new'])\n",
    "\n",
    "\n",
    "                pie = ax1[0].pie(frequency_0, startangle=0,colors=colors)\n",
    "\n",
    "                plt.legend(pie[0],crime_type, bbox_to_anchor=(1,0.5), loc=\"center right\", fontsize=20, \n",
    "                           bbox_transform=plt.gcf().transFigure)\n",
    "\n",
    "\n",
    "                ax1[1].bar(crime_type,frequency_1,color=colors)\n",
    "\n",
    "                fig1.autofmt_xdate()\n",
    "                fig1.text(0.9, 0.15, 'AMALI', fontsize = 50,\n",
    "                 color ='grey', ha ='left', va ='top',\n",
    "                 alpha = 0.7)\n",
    "\n",
    "                plt.show()\n",
    "\n",
    "w.observe(on_change)\n",
    "display(w)\n",
    "display(out)"
   ]
  },
  {
   "cell_type": "markdown",
   "id": "37c888b6",
   "metadata": {},
   "source": [
    "## Evolution of number of crimes per type"
   ]
  },
  {
   "cell_type": "code",
   "execution_count": 92,
   "id": "05bf665a",
   "metadata": {},
   "outputs": [
    {
     "data": {
      "application/vnd.jupyter.widget-view+json": {
       "model_id": "de6155535f3947d4ae1c4c947c260f3f",
       "version_major": 2,
       "version_minor": 0
      },
      "text/plain": [
       "Dropdown(description='Crime Type :', options=('Anti-social behaviour', 'Criminal damage and arson', 'Violence …"
      ]
     },
     "metadata": {},
     "output_type": "display_data"
    },
    {
     "data": {
      "application/vnd.jupyter.widget-view+json": {
       "model_id": "a5bc506b60754ce18b3d359609602f6f",
       "version_major": 2,
       "version_minor": 0
      },
      "text/plain": [
       "Output()"
      ]
     },
     "metadata": {},
     "output_type": "display_data"
    }
   ],
   "source": [
    "crime_type = dict(Counter(df['Crime type']))\n",
    "crime_type = crime_type.keys()\n",
    "\n",
    "w = widgets.Dropdown(\n",
    "    options=crime_type,\n",
    "    description='Crime Type :'\n",
    ")\n",
    "\n",
    "out = widgets.Output()\n",
    "\n",
    "\n",
    "def on_change(change):\n",
    "        \n",
    "        if change['type'] == 'change' and change['name'] == 'value':\n",
    "            \n",
    "            with out:\n",
    "                out.clear_output()\n",
    "                number_crimes = [dict(Counter(pd.read_csv(data_name)['Crime type']))[change['new']] for data_name in data_names]\n",
    "\n",
    "                fig, ax = plt.subplots(figsize=(30,15))\n",
    "\n",
    "                ax.plot(Month, number_crimes)\n",
    "                plt.title(\"Evolution of \"+change['new'])\n",
    "                fig.autofmt_xdate()\n",
    "                plt.show()\n",
    "\n",
    "w.observe(on_change)\n",
    "display(w)\n",
    "display(out)"
   ]
  },
  {
   "cell_type": "markdown",
   "id": "b8afafe4",
   "metadata": {},
   "source": [
    "## Evolution of number of crimes over the months"
   ]
  },
  {
   "cell_type": "code",
   "execution_count": 86,
   "id": "24e7cce0",
   "metadata": {},
   "outputs": [
    {
     "data": {
      "image/png": "[encoded data removed]",
      "text/plain": [
       "<Figure size 2160x720 with 1 Axes>"
      ]
     },
     "metadata": {
      "needs_background": "light"
     },
     "output_type": "display_data"
    }
   ],
   "source": [
    "number_crimes = [len(pd.read_csv(data_name)) for data_name in data_names]\n",
    "\n",
    "# Figure Size\n",
    "fig, ax = plt.subplots(figsize =(30, 10))\n",
    " \n",
    "# Horizontal Bar Plot\n",
    "ax.plot(Month, number_crimes)\n",
    "\n",
    " \n",
    "# Add Plot Title\n",
    "ax.set_title('Evolution of total number of crimes',\n",
    "             loc ='left', )\n",
    " \n",
    "# Add Text watermark\n",
    "\n",
    "\n",
    "fig.autofmt_xdate() \n",
    "# Show Plot\n",
    "plt.show()"
   ]
  }
 ],
 "metadata": {
  "kernelspec": {
   "display_name": "Python 3 (ipykernel)",
   "language": "python",
   "name": "python3"
  },
  "language_info": {
   "codemirror_mode": {
    "name": "ipython",
    "version": 3
   },
   "file_extension": ".py",
   "mimetype": "text/x-python",
   "name": "python",
   "nbconvert_exporter": "python",
   "pygments_lexer": "ipython3",
   "version": "3.8.12"
  },
  "widgets": {
   "application/vnd.jupyter.widget-state+json": {
    "state": {
     "00fafc044795430d82c56f52da2e9d75": {
      "model_module": "@jupyter-widgets/base",
      "model_module_version": "1.2.0",
      "model_name": "LayoutModel",
      "state": {}
     },
     "0147c7bb23074e97bb6b6148cd813bbe": {
      "model_module": "@jupyter-widgets/base",
      "model_module_version": "1.2.0",
      "model_name": "LayoutModel",
      "state": {}
     },
     "01874869d02e49e8867801e8ac34a91d": {
      "model_module": "@jupyter-widgets/controls",
      "model_module_version": "1.5.0",
      "model_name": "DescriptionStyleModel",
      "state": {
       "description_width": ""
      }
     },
     "01cc51d68f354313bed8c4de161f3fd4": {
      "model_module": "@jupyter-widgets/controls",
      "model_module_version": "1.5.0",
      "model_name": "DescriptionStyleModel",
      "state": {
       "description_width": ""
      }
     },
     "01d8d9fc857f49fca3a4a453d412c068": {
      "model_module": "@jupyter-widgets/base",
      "model_module_version": "1.2.0",
      "model_name": "LayoutModel",
      "state": {}
     },
     "033f6ddf6308439c8e6a4f888cc9d95d": {
      "model_module": "@jupyter-widgets/controls",
      "model_module_version": "1.5.0",
      "model_name": "DescriptionStyleModel",
      "state": {
       "description_width": ""
      }
     },
     "03a089681ab6431b96a4493038120cd7": {
      "model_module": "@jupyter-widgets/controls",
      "model_module_version": "1.5.0",
      "model_name": "DropdownModel",
      "state": {
       "_options_labels": [
        "2019-11",
        "2019-12",
        "2020-01",
        "2020-02",
        "2020-03",
        "2020-04",
        "2020-05",
        "2020-06",
        "2020-07",
        "2020-08",
        "2020-09",
        "2020-11",
        "2020-12",
        "2021-01",
        "2021-02",
        "2021-03",
        "2021-04",
        "2021-05",
        "2021-06",
        "2021-07",
        "2021-08",
        "2021-09",
        "2021-11"
       ],
       "description": "Month :",
       "index": 12,
       "layout": "IPY_MODEL_eb417ec552d94b76b1930c6a30bb2a20",
       "style": "IPY_MODEL_a9f96111852f49de817a6c025276c8d8"
      }
     },
     "05ebbca3357943ebbeb13fa03c265de4": {
      "model_module": "@jupyter-widgets/base",
      "model_module_version": "1.2.0",
      "model_name": "LayoutModel",
      "state": {}
     },
     "06577c3655354297bbc40ef6f6deb7df": {
      "model_module": "@jupyter-widgets/base",
      "model_module_version": "1.2.0",
      "model_name": "LayoutModel",
      "state": {}
     },
     "071932fbe73d485a9f6342a074f538ff": {
      "model_module": "@jupyter-widgets/base",
      "model_module_version": "1.2.0",
      "model_name": "LayoutModel",
      "state": {}
     },
     "07aa041dd029413fa5a1a17f19181092": {
      "model_module": "@jupyter-widgets/base",
      "model_module_version": "1.2.0",
      "model_name": "LayoutModel",
      "state": {
       "height": "10px"
      }
     },
     "07df7398ddca4b8382706c59ad821057": {
      "model_module": "@jupyter-widgets/base",
      "model_module_version": "1.2.0",
      "model_name": "LayoutModel",
      "state": {}
     },
     "080e27e679cb4538941cda1aeb377b9a": {
      "model_module": "@jupyter-widgets/controls",
      "model_module_version": "1.5.0",
      "model_name": "DropdownModel",
      "state": {
       "_options_labels": [
        "2019-11",
        "2019-12",
        "2020-01",
        "2020-02",
        "2020-03",
        "2020-04",
        "2020-05",
        "2020-06",
        "2020-07",
        "2020-08",
        "2020-09",
        "2021-01",
        "2021-02",
        "2021-03",
        "2021-04",
        "2021-05",
        "2021-06",
        "2021-07",
        "2021-08",
        "2021-09",
        "2020-11",
        "2020-12",
        "2021-11"
       ],
       "description": "Month :",
       "index": 17,
       "layout": "IPY_MODEL_00fafc044795430d82c56f52da2e9d75",
       "style": "IPY_MODEL_fcb5e515ecc84b05beb36a6f214ca005"
      }
     },
     "0845f1d70cb4457d8e668e644c287670": {
      "model_module": "@jupyter-widgets/base",
      "model_module_version": "1.2.0",
      "model_name": "LayoutModel",
      "state": {}
     },
     "0853375f17914f32ab0d5a6fc7d16981": {
      "model_module": "@jupyter-widgets/base",
      "model_module_version": "1.2.0",
      "model_name": "LayoutModel",
      "state": {}
     },
     "0a2cd83fe81e49ea87c4a3b95e0f9c6a": {
      "model_module": "@jupyter-widgets/controls",
      "model_module_version": "1.5.0",
      "model_name": "DescriptionStyleModel",
      "state": {
       "description_width": ""
      }
     },
     "0bfe4e4eab6c43748d6437007f7a58bf": {
      "model_module": "@jupyter-widgets/controls",
      "model_module_version": "1.5.0",
      "model_name": "DropdownModel",
      "state": {
       "_options_labels": [
        "2019-11",
        "2019-12",
        "2020-01",
        "2020-02",
        "2020-03",
        "2020-04",
        "2020-05",
        "2020-06",
        "2020-07",
        "2020-08",
        "2020-09",
        "2020-11",
        "2020-12",
        "2021-01",
        "2021-02",
        "2021-03",
        "2021-04",
        "2021-05",
        "2021-06",
        "2021-07",
        "2021-08",
        "2021-09",
        "2021-11"
       ],
       "description": "Month :",
       "index": 9,
       "layout": "IPY_MODEL_071932fbe73d485a9f6342a074f538ff",
       "style": "IPY_MODEL_994aadccf3014d8fa8aeaab04fdddc32"
      }
     },
     "0c4d5eff66124d90af87c2f2ea27ca33": {
      "model_module": "@jupyter-widgets/controls",
      "model_module_version": "1.5.0",
      "model_name": "DropdownModel",
      "state": {
       "_options_labels": [
        "2019-11",
        "2019-12",
        "2020-01",
        "2020-02",
        "2020-03",
        "2020-04",
        "2020-05",
        "2020-06",
        "2020-07",
        "2020-08",
        "2020-09",
        "2021-01",
        "2021-02",
        "2021-03",
        "2021-04",
        "2021-05",
        "2021-06",
        "2021-07",
        "2021-08",
        "2021-09",
        "2020-11",
        "2020-12",
        "2021-11"
       ],
       "description": "Month :",
       "index": 18,
       "layout": "IPY_MODEL_75fe8cb9748948bab1f2a68a1f066186",
       "style": "IPY_MODEL_c4434a48588744afb8a92dc64f6dbabb"
      }
     },
     "0ca2204ff1634e88812a0678939f49e0": {
      "model_module": "@jupyter-widgets/controls",
      "model_module_version": "1.5.0",
      "model_name": "DescriptionStyleModel",
      "state": {
       "description_width": ""
      }
     },
     "0dbc900507ba408dbf21cea122e50e9c": {
      "model_module": "@jupyter-widgets/controls",
      "model_module_version": "1.5.0",
      "model_name": "DescriptionStyleModel",
      "state": {
       "description_width": ""
      }
     },
     "0de3c88590c4486184336592fc8aa49b": {
      "model_module": "@jupyter-widgets/controls",
      "model_module_version": "1.5.0",
      "model_name": "DescriptionStyleModel",
      "state": {
       "description_width": ""
      }
     },
     "0e1cbb129dc74e0593e329550c80cd6e": {
      "model_module": "@jupyter-widgets/controls",
      "model_module_version": "1.5.0",
      "model_name": "DescriptionStyleModel",
      "state": {
       "description_width": ""
      }
     },
     "0e4c8ef6be284cac8cfc4c9d99a897c7": {
      "model_module": "@jupyter-widgets/controls",
      "model_module_version": "1.5.0",
      "model_name": "DropdownModel",
      "state": {
       "_options_labels": [
        "2019-11",
        "2019-12",
        "2020-01",
        "2020-02",
        "2020-03",
        "2020-04",
        "2020-05",
        "2020-06",
        "2020-07",
        "2020-08",
        "2020-09",
        "2021-01",
        "2021-02",
        "2021-03",
        "2021-04",
        "2021-05",
        "2021-06",
        "2021-07",
        "2021-08",
        "2021-09",
        "2020-11",
        "2020-12",
        "2021-11"
       ],
       "description": "Month :",
       "index": 15,
       "layout": "IPY_MODEL_cafae574bff94084b80206c0178492b8",
       "style": "IPY_MODEL_4ecdfaef766c47e8b0b8adbdc8cbbfa3"
      }
     },
     "0ec6ee1dedd64a37988fafd8e398025d": {
      "model_module": "@jupyter-widgets/controls",
      "model_module_version": "1.5.0",
      "model_name": "DropdownModel",
      "state": {
       "_options_labels": [
        "2019-11",
        "2019-12",
        "2020-01",
        "2020-02",
        "2020-03",
        "2020-04",
        "2020-05",
        "2020-06",
        "2020-07",
        "2020-08",
        "2020-09",
        "2021-01",
        "2021-02",
        "2021-03",
        "2021-04",
        "2021-05",
        "2021-06",
        "2021-07",
        "2021-08",
        "2021-09",
        "2020-11",
        "2020-12",
        "2021-11"
       ],
       "description": "Month :",
       "index": 20,
       "layout": "IPY_MODEL_07df7398ddca4b8382706c59ad821057",
       "style": "IPY_MODEL_96d8afe75f954d7d8eff7f35892cc9d1"
      }
     },
     "0f8acd633154444693fb7d1da945f725": {
      "model_module": "@jupyter-widgets/base",
      "model_module_version": "1.2.0",
      "model_name": "LayoutModel",
      "state": {}
     },
     "1029b635a2ba44e696df6235561e733a": {
      "model_module": "@jupyter-widgets/controls",
      "model_module_version": "1.5.0",
      "model_name": "DescriptionStyleModel",
      "state": {
       "description_width": ""
      }
     },
     "1262ea4401274ff4923e46e6399d1fb7": {
      "model_module": "@jupyter-widgets/controls",
      "model_module_version": "1.5.0",
      "model_name": "DropdownModel",
      "state": {
       "_options_labels": [
        "2019-11",
        "2019-12",
        "2020-01",
        "2020-02",
        "2020-03",
        "2020-04",
        "2020-05",
        "2020-06",
        "2020-07",
        "2020-08",
        "2020-09",
        "2021-01",
        "2021-02",
        "2021-03",
        "2021-04",
        "2021-05",
        "2021-06",
        "2021-07",
        "2021-08",
        "2021-09",
        "2020-11",
        "2020-12",
        "2021-11"
       ],
       "description": "Month :",
       "index": 18,
       "layout": "IPY_MODEL_549f92a049074f64a6984e52f6e12a84",
       "style": "IPY_MODEL_99d39d64f5624d55ad078646810a4a7c"
      }
     },
     "12d4708344e5462e9857f6c0fd93498f": {
      "model_module": "@jupyter-widgets/controls",
      "model_module_version": "1.5.0",
      "model_name": "DescriptionStyleModel",
      "state": {
       "description_width": ""
      }
     },
     "146906b2e2ff47648c09be30c9842083": {
      "model_module": "@jupyter-widgets/base",
      "model_module_version": "1.2.0",
      "model_name": "LayoutModel",
      "state": {}
     },
     "15b7b1164c89489495cd601515a45ad3": {
      "model_module": "@jupyter-widgets/controls",
      "model_module_version": "1.5.0",
      "model_name": "DescriptionStyleModel",
      "state": {
       "description_width": ""
      }
     },
     "1658e2f080c64c8fb730aad4244f02c0": {
      "model_module": "@jupyter-widgets/base",
      "model_module_version": "1.2.0",
      "model_name": "LayoutModel",
      "state": {}
     },
     "18f08807e75242f990eb7569cffca753": {
      "model_module": "@jupyter-widgets/controls",
      "model_module_version": "1.5.0",
      "model_name": "DropdownModel",
      "state": {
       "_options_labels": [
        "2019-11",
        "2019-12",
        "2020-01",
        "2020-02",
        "2020-03",
        "2020-04",
        "2020-05",
        "2020-06",
        "2020-07",
        "2020-08",
        "2020-09",
        "2020-11",
        "2020-12",
        "2021-01",
        "2021-02",
        "2021-03",
        "2021-04",
        "2021-05",
        "2021-06",
        "2021-07",
        "2021-08",
        "2021-09",
        "2021-11"
       ],
       "description": "Month :",
       "index": 6,
       "layout": "IPY_MODEL_792ec13ce4b34fa0b118286cf76c2858",
       "style": "IPY_MODEL_1029b635a2ba44e696df6235561e733a"
      }
     },
     "195582a34c1643ae8cf1ffd592d4d075": {
      "model_module": "@jupyter-widgets/controls",
      "model_module_version": "1.5.0",
      "model_name": "DropdownModel",
      "state": {
       "_options_labels": [
        "2019-11",
        "2019-12",
        "2020-01",
        "2020-02",
        "2020-03",
        "2020-04",
        "2020-05",
        "2020-06",
        "2020-07",
        "2020-08",
        "2020-09",
        "2020-11",
        "2020-12",
        "2021-01",
        "2021-02",
        "2021-03",
        "2021-04",
        "2021-05",
        "2021-06",
        "2021-07",
        "2021-08",
        "2021-09",
        "2021-11"
       ],
       "description": "Month :",
       "index": 10,
       "layout": "IPY_MODEL_32ee9f9353fa4001b9c697bae267c95f",
       "style": "IPY_MODEL_d2c7fca9363c41a688ee36eedc9baf10"
      }
     },
     "19e8f328febb4dbdb39517081ef9eb06": {
      "model_module": "@jupyter-widgets/controls",
      "model_module_version": "1.5.0",
      "model_name": "DropdownModel",
      "state": {
       "_options_labels": [
        "2019-11",
        "2019-12",
        "2020-01",
        "2020-02",
        "2020-03",
        "2020-04",
        "2020-05",
        "2020-06",
        "2020-07",
        "2020-08",
        "2020-09",
        "2020-11",
        "2020-12",
        "2021-01",
        "2021-02",
        "2021-03",
        "2021-04",
        "2021-05",
        "2021-06",
        "2021-07",
        "2021-08",
        "2021-09",
        "2021-11"
       ],
       "description": "Month :",
       "index": 8,
       "layout": "IPY_MODEL_1adb44197eb94c859bdec181ca91412b",
       "style": "IPY_MODEL_7b427689ecd647328422bb9907e4f0ec"
      }
     },
     "1adb44197eb94c859bdec181ca91412b": {
      "model_module": "@jupyter-widgets/base",
      "model_module_version": "1.2.0",
      "model_name": "LayoutModel",
      "state": {}
     },
     "1be011fc3a6f47bab8108ef2c763a1ef": {
      "model_module": "@jupyter-widgets/controls",
      "model_module_version": "1.5.0",
      "model_name": "DescriptionStyleModel",
      "state": {
       "description_width": ""
      }
     },
     "1c9a8844791d49f2b9076f97ef4232e6": {
      "model_module": "@jupyter-widgets/base",
      "model_module_version": "1.2.0",
      "model_name": "LayoutModel",
      "state": {}
     },
     "1cd60041e77b438794b1ffef91d8ccde": {
      "model_module": "@jupyter-widgets/base",
      "model_module_version": "1.2.0",
      "model_name": "LayoutModel",
      "state": {}
     },
     "1faacafe20bb4648a57fc9b1f42dd6bd": {
      "model_module": "@jupyter-widgets/controls",
      "model_module_version": "1.5.0",
      "model_name": "DescriptionStyleModel",
      "state": {
       "description_width": ""
      }
     },
     "1feba2038ee84bdba4b192c32301fcc0": {
      "model_module": "@jupyter-widgets/controls",
      "model_module_version": "1.5.0",
      "model_name": "DescriptionStyleModel",
      "state": {
       "description_width": ""
      }
     },
     "1ff4460c43be4fa7b22b0254824f52b6": {
      "model_module": "@jupyter-widgets/controls",
      "model_module_version": "1.5.0",
      "model_name": "DescriptionStyleModel",
      "state": {
       "description_width": ""
      }
     },
     "2026522774e54e368d67d4bbbfbfee14": {
      "model_module": "@jupyter-widgets/base",
      "model_module_version": "1.2.0",
      "model_name": "LayoutModel",
      "state": {
       "height": "10px"
      }
     },
     "208c5c7ef54247b99c13756fe6cd70a6": {
      "model_module": "@jupyter-widgets/controls",
      "model_module_version": "1.5.0",
      "model_name": "DropdownModel",
      "state": {
       "_options_labels": [
        "2019-11",
        "2019-12",
        "2020-01",
        "2020-02",
        "2020-03",
        "2020-04",
        "2020-05",
        "2020-06",
        "2020-07",
        "2020-08",
        "2020-09",
        "2020-11",
        "2020-12",
        "2021-01",
        "2021-02",
        "2021-03",
        "2021-04",
        "2021-05",
        "2021-06",
        "2021-07",
        "2021-08",
        "2021-09",
        "2021-11"
       ],
       "description": "Month :",
       "index": 12,
       "layout": "IPY_MODEL_8e73b10222d544b59e383bca5d83b9af",
       "style": "IPY_MODEL_6a22a4ab066f452ba0735172276e1e8f"
      }
     },
     "20b28211d40d4a49b035e612eacfa593": {
      "model_module": "@jupyter-widgets/controls",
      "model_module_version": "1.5.0",
      "model_name": "DropdownModel",
      "state": {
       "_options_labels": [
        "2019-11",
        "2019-12",
        "2020-01",
        "2020-02",
        "2020-03",
        "2020-04",
        "2020-05",
        "2020-06",
        "2020-07",
        "2020-08",
        "2020-09",
        "2020-11",
        "2020-12",
        "2021-01",
        "2021-02",
        "2021-03",
        "2021-04",
        "2021-05",
        "2021-06",
        "2021-07",
        "2021-08",
        "2021-09",
        "2021-11"
       ],
       "description": "Month :",
       "index": 10,
       "layout": "IPY_MODEL_57b6c2e759684e56a58f94a25e8b309d",
       "style": "IPY_MODEL_82734fda11c84d39b9f4c3e7190ca8f7"
      }
     },
     "21dfa2c6cb6142068d9edc365f1b3792": {
      "model_module": "@jupyter-widgets/base",
      "model_module_version": "1.2.0",
      "model_name": "LayoutModel",
      "state": {}
     },
     "2203b29d779e4219a8a7fb204a78413a": {
      "model_module": "@jupyter-widgets/controls",
      "model_module_version": "1.5.0",
      "model_name": "DescriptionStyleModel",
      "state": {
       "description_width": ""
      }
     },
     "225409a6ae3b4ca8994c1588af99cf69": {
      "model_module": "@jupyter-widgets/output",
      "model_module_version": "1.0.0",
      "model_name": "OutputModel",
      "state": {
       "layout": "IPY_MODEL_f4f90b502f7e4ea198c4fc5ae6f9cab8"
      }
     },
     "22a415ae73e8452c9cb420fb0fd41dd5": {
      "model_module": "@jupyter-widgets/base",
      "model_module_version": "1.2.0",
      "model_name": "LayoutModel",
      "state": {}
     },
     "23154d73c38e4ebd895a8c74a3555bc7": {
      "model_module": "@jupyter-widgets/base",
      "model_module_version": "1.2.0",
      "model_name": "LayoutModel",
      "state": {}
     },
     "2437549bdf9d45049c96afcf2c1ce2e4": {
      "model_module": "@jupyter-widgets/base",
      "model_module_version": "1.2.0",
      "model_name": "LayoutModel",
      "state": {}
     },
     "2438ab5a6bde420a971651b2114aaacf": {
      "model_module": "@jupyter-widgets/base",
      "model_module_version": "1.2.0",
      "model_name": "LayoutModel",
      "state": {}
     },
     "248e1b060eb441e595b8fa803c592ab2": {
      "model_module": "@jupyter-widgets/controls",
      "model_module_version": "1.5.0",
      "model_name": "DropdownModel",
      "state": {
       "_options_labels": [
        "2019-11",
        "2019-12",
        "2020-01",
        "2020-02",
        "2020-03",
        "2020-04",
        "2020-05",
        "2020-06",
        "2020-07",
        "2020-08",
        "2020-09",
        "2020-11",
        "2020-12",
        "2021-01",
        "2021-02",
        "2021-03",
        "2021-04",
        "2021-05",
        "2021-06",
        "2021-07",
        "2021-08",
        "2021-09",
        "2021-11"
       ],
       "description": "Month :",
       "index": 11,
       "layout": "IPY_MODEL_f6b5a9b26bdd4680a2a04fdeb099b444",
       "style": "IPY_MODEL_9cb56f9d80e649349181772a23f821dc"
      }
     },
     "25dfcb848e5a43158176bd00e699e635": {
      "model_module": "@jupyter-widgets/controls",
      "model_module_version": "1.5.0",
      "model_name": "DropdownModel",
      "state": {
       "_options_labels": [
        "2019-11",
        "2019-12",
        "2020-01",
        "2020-02",
        "2020-03",
        "2020-04",
        "2020-05",
        "2020-06",
        "2020-07",
        "2020-08",
        "2020-09",
        "2020-11",
        "2020-12",
        "2021-01",
        "2021-02",
        "2021-03",
        "2021-04",
        "2021-05",
        "2021-06",
        "2021-07",
        "2021-08",
        "2021-09",
        "2021-11"
       ],
       "description": "Month :",
       "index": 8,
       "layout": "IPY_MODEL_e464cab9d38d4dc9a6a128b44b965711",
       "style": "IPY_MODEL_a444ba84431f4c42bdb2e56b6b48c2e0"
      }
     },
     "261eb829d4d041dd9d7dda0be5f66584": {
      "model_module": "@jupyter-widgets/controls",
      "model_module_version": "1.5.0",
      "model_name": "DropdownModel",
      "state": {
       "_options_labels": [
        "2019-11",
        "2019-12",
        "2020-01",
        "2020-02",
        "2020-03",
        "2020-04",
        "2020-05",
        "2020-06",
        "2020-07",
        "2020-08",
        "2020-09",
        "2020-11",
        "2020-12",
        "2021-01",
        "2021-02",
        "2021-03",
        "2021-04",
        "2021-05",
        "2021-06",
        "2021-07",
        "2021-08",
        "2021-09",
        "2021-11"
       ],
       "description": "Month :",
       "index": 14,
       "layout": "IPY_MODEL_1658e2f080c64c8fb730aad4244f02c0",
       "style": "IPY_MODEL_e9b62e5158634cda8b26d131a19fdd1c"
      }
     },
     "26ef6857d89943f2948fb3487c5fb05c": {
      "model_module": "@jupyter-widgets/controls",
      "model_module_version": "1.5.0",
      "model_name": "DropdownModel",
      "state": {
       "_options_labels": [
        "2019-11",
        "2019-12",
        "2020-01",
        "2020-02",
        "2020-03",
        "2020-04",
        "2020-05",
        "2020-06",
        "2020-07",
        "2020-08",
        "2020-09",
        "2020-11",
        "2020-12",
        "2021-01",
        "2021-02",
        "2021-03",
        "2021-04",
        "2021-05",
        "2021-06",
        "2021-07",
        "2021-08",
        "2021-09",
        "2021-11"
       ],
       "description": "Month :",
       "index": 0,
       "layout": "IPY_MODEL_e26392d54cf94c05a9423889da9fac42",
       "style": "IPY_MODEL_500a9007a7fb4515a063c0e260551953"
      }
     },
     "273ca72148b94acb8369d107faa54bc9": {
      "model_module": "@jupyter-widgets/controls",
      "model_module_version": "1.5.0",
      "model_name": "DropdownModel",
      "state": {
       "_options_labels": [
        "2019-11",
        "2019-12",
        "2020-01",
        "2020-02",
        "2020-03",
        "2020-04",
        "2020-05",
        "2020-06",
        "2020-07",
        "2020-08",
        "2020-09",
        "2021-01",
        "2021-02",
        "2021-03",
        "2021-04",
        "2021-05",
        "2021-06",
        "2021-07",
        "2021-08",
        "2021-09",
        "2020-11",
        "2020-12",
        "2021-11"
       ],
       "description": "Month :",
       "index": 11,
       "layout": "IPY_MODEL_1c9a8844791d49f2b9076f97ef4232e6",
       "style": "IPY_MODEL_0dbc900507ba408dbf21cea122e50e9c"
      }
     },
     "27df39f484ec4af78edc0be1243bd3b1": {
      "model_module": "@jupyter-widgets/controls",
      "model_module_version": "1.5.0",
      "model_name": "DropdownModel",
      "state": {
       "_options_labels": [
        "2019-11",
        "2019-12",
        "2020-01",
        "2020-02",
        "2020-03",
        "2020-04",
        "2020-05",
        "2020-06",
        "2020-07",
        "2020-08",
        "2020-09",
        "2021-01",
        "2021-02",
        "2021-03",
        "2021-04",
        "2021-05",
        "2021-06",
        "2021-07",
        "2021-08",
        "2021-09",
        "2020-11",
        "2020-12",
        "2021-11"
       ],
       "description": "Month :",
       "index": 16,
       "layout": "IPY_MODEL_22a415ae73e8452c9cb420fb0fd41dd5",
       "style": "IPY_MODEL_0e1cbb129dc74e0593e329550c80cd6e"
      }
     },
     "28feeee0e20447e991e0b2333fe5d453": {
      "model_module": "@jupyter-widgets/controls",
      "model_module_version": "1.5.0",
      "model_name": "DescriptionStyleModel",
      "state": {
       "description_width": ""
      }
     },
     "2a0fb2ef95df4d4eaf05f237e06f502c": {
      "model_module": "@jupyter-widgets/controls",
      "model_module_version": "1.5.0",
      "model_name": "DescriptionStyleModel",
      "state": {
       "description_width": ""
      }
     },
     "2d342e917323438ebb12717c4dc50f3a": {
      "model_module": "@jupyter-widgets/base",
      "model_module_version": "1.2.0",
      "model_name": "LayoutModel",
      "state": {}
     },
     "2d7f2f7d8805432996f8e9595b223582": {
      "model_module": "@jupyter-widgets/controls",
      "model_module_version": "1.5.0",
      "model_name": "DescriptionStyleModel",
      "state": {
       "description_width": ""
      }
     },
     "2da8cc56518347d5b0bb893739b2af85": {
      "model_module": "@jupyter-widgets/controls",
      "model_module_version": "1.5.0",
      "model_name": "DropdownModel",
      "state": {
       "_options_labels": [
        "2019-11",
        "2019-12",
        "2020-01",
        "2020-02",
        "2020-03",
        "2020-04",
        "2020-05",
        "2020-06",
        "2020-07",
        "2020-08",
        "2020-09",
        "2020-11",
        "2020-12",
        "2021-01",
        "2021-02",
        "2021-03",
        "2021-04",
        "2021-05",
        "2021-06",
        "2021-07",
        "2021-08",
        "2021-09",
        "2021-11"
       ],
       "description": "Month :",
       "index": 8,
       "layout": "IPY_MODEL_dc81f5f44f2744adb6def05a0a70f31c",
       "style": "IPY_MODEL_1be011fc3a6f47bab8108ef2c763a1ef"
      }
     },
     "2daee5e6aaae46efa878ac7f7594862a": {
      "model_module": "@jupyter-widgets/controls",
      "model_module_version": "1.5.0",
      "model_name": "DescriptionStyleModel",
      "state": {
       "description_width": ""
      }
     },
     "2e3753b01f764fc3a7858e82a488216e": {
      "model_module": "@jupyter-widgets/controls",
      "model_module_version": "1.5.0",
      "model_name": "DropdownModel",
      "state": {
       "_options_labels": [
        "Anti-social behaviour",
        "Criminal damage and arson",
        "Violence and sexual offences",
        "Other theft",
        "Public order",
        "Robbery",
        "Burglary",
        "Shoplifting",
        "Theft from the person",
        "Other crime",
        "Possession of weapons",
        "Vehicle crime",
        "Drugs",
        "Bicycle theft"
       ],
       "description": "Crime Type :",
       "index": 9,
       "layout": "IPY_MODEL_b52e7ec6de2343898729f8f44fbf2b98",
       "style": "IPY_MODEL_3dc57ec69f304733989d6acdcded93f7"
      }
     },
     "2ea148c22d1244d9a56746a94340b967": {
      "model_module": "@jupyter-widgets/output",
      "model_module_version": "1.0.0",
      "model_name": "OutputModel",
      "state": {
       "layout": "IPY_MODEL_aca1f7190aeb46049e6c5078223bcb6b"
      }
     },
     "2ec50a14f2174590885864db4058a53d": {
      "model_module": "@jupyter-widgets/controls",
      "model_module_version": "1.5.0",
      "model_name": "DropdownModel",
      "state": {
       "_options_labels": [
        "2019-11",
        "2019-12",
        "2020-01",
        "2020-02",
        "2020-03",
        "2020-04",
        "2020-05",
        "2020-06",
        "2020-07",
        "2020-08",
        "2020-09",
        "2020-11",
        "2020-12",
        "2021-01",
        "2021-02",
        "2021-03",
        "2021-04",
        "2021-05",
        "2021-06",
        "2021-07",
        "2021-08",
        "2021-09",
        "2021-11"
       ],
       "description": "Month :",
       "index": 15,
       "layout": "IPY_MODEL_d81daebfd419477ab02cebe3726aa645",
       "style": "IPY_MODEL_593ac751b0b64b2ea0601f6a0b8c70db"
      }
     },
     "30ac602a0af54796ab4bee1b93163544": {
      "model_module": "@jupyter-widgets/controls",
      "model_module_version": "1.5.0",
      "model_name": "DescriptionStyleModel",
      "state": {
       "description_width": ""
      }
     },
     "31ad554305f545d9934824e8c7250596": {
      "model_module": "@jupyter-widgets/base",
      "model_module_version": "1.2.0",
      "model_name": "LayoutModel",
      "state": {}
     },
     "320fb66a2b5c42d7a9117fd6111a495c": {
      "model_module": "@jupyter-widgets/controls",
      "model_module_version": "1.5.0",
      "model_name": "DropdownModel",
      "state": {
       "_options_labels": [
        "Anti-social behaviour",
        "Criminal damage and arson",
        "Violence and sexual offences",
        "Other theft",
        "Public order",
        "Robbery",
        "Burglary",
        "Shoplifting",
        "Theft from the person",
        "Other crime",
        "Possession of weapons",
        "Vehicle crime",
        "Drugs",
        "Bicycle theft"
       ],
       "description": "Crime Type :",
       "index": 7,
       "layout": "IPY_MODEL_57aa276406f94e25ac0c094753d5cf4e",
       "style": "IPY_MODEL_e98cea9e57a540c8867db340cc66ef35"
      }
     },
     "32ee9f9353fa4001b9c697bae267c95f": {
      "model_module": "@jupyter-widgets/base",
      "model_module_version": "1.2.0",
      "model_name": "LayoutModel",
      "state": {}
     },
     "3302afcdef6346108e358f874faf22ea": {
      "model_module": "@jupyter-widgets/controls",
      "model_module_version": "1.5.0",
      "model_name": "DescriptionStyleModel",
      "state": {
       "description_width": ""
      }
     },
     "33432b945612414d8ba10f607d35dd01": {
      "model_module": "@jupyter-widgets/controls",
      "model_module_version": "1.5.0",
      "model_name": "DropdownModel",
      "state": {
       "_options_labels": [
        "2019-11",
        "2019-12",
        "2020-01",
        "2020-02",
        "2020-03",
        "2020-04",
        "2020-05",
        "2020-06",
        "2020-07",
        "2020-08",
        "2020-09",
        "2020-11",
        "2020-12",
        "2021-01",
        "2021-02",
        "2021-03",
        "2021-04",
        "2021-05",
        "2021-06",
        "2021-07",
        "2021-08",
        "2021-09",
        "2021-11"
       ],
       "description": "Month :",
       "index": 17,
       "layout": "IPY_MODEL_eb5d4430478f4ffbad8fb0ba1034b52b",
       "style": "IPY_MODEL_5830bad4223d4851bfc1e11f522a33a2"
      }
     },
     "34912e7f1856482badfd93988a8984d4": {
      "model_module": "@jupyter-widgets/base",
      "model_module_version": "1.2.0",
      "model_name": "LayoutModel",
      "state": {}
     },
     "3517fa151ba04f418d461311b69d03f0": {
      "model_module": "@jupyter-widgets/controls",
      "model_module_version": "1.5.0",
      "model_name": "DropdownModel",
      "state": {
       "_options_labels": [
        "2019-11",
        "2019-12",
        "2020-01",
        "2020-02",
        "2020-03",
        "2020-04",
        "2020-05",
        "2020-06",
        "2020-07",
        "2020-08",
        "2020-09",
        "2020-11",
        "2020-12",
        "2021-01",
        "2021-02",
        "2021-03",
        "2021-04",
        "2021-05",
        "2021-06",
        "2021-07",
        "2021-08",
        "2021-09",
        "2021-11"
       ],
       "description": "Month :",
       "index": 10,
       "layout": "IPY_MODEL_da72e0ac3b474170a72cd850e33a0bd0",
       "style": "IPY_MODEL_52b4cd714a0347d39f3271e712bf7596"
      }
     },
     "37a289f02e3d4d888a9720d9de5b6f9f": {
      "model_module": "@jupyter-widgets/base",
      "model_module_version": "1.2.0",
      "model_name": "LayoutModel",
      "state": {}
     },
     "3866f63a1b8f4d8da02864765e13fc3d": {
      "model_module": "@jupyter-widgets/controls",
      "model_module_version": "1.5.0",
      "model_name": "DropdownModel",
      "state": {
       "_options_labels": [
        "2019-11",
        "2019-12",
        "2020-01",
        "2020-02",
        "2020-03",
        "2020-04",
        "2020-05",
        "2020-06",
        "2020-07",
        "2020-08",
        "2020-09",
        "2021-01",
        "2021-02",
        "2021-03",
        "2021-04",
        "2021-05",
        "2021-06",
        "2021-07",
        "2021-08",
        "2021-09",
        "2020-11",
        "2020-12",
        "2021-11"
       ],
       "description": "Month :",
       "index": 16,
       "layout": "IPY_MODEL_cc37993431c24672ab6882ae98d5c742",
       "style": "IPY_MODEL_2a0fb2ef95df4d4eaf05f237e06f502c"
      }
     },
     "38cb26aa8ce347e3aa100b97a4325fa2": {
      "model_module": "@jupyter-widgets/base",
      "model_module_version": "1.2.0",
      "model_name": "LayoutModel",
      "state": {}
     },
     "392b9694f9d14a05ab2f2e3421cee698": {
      "model_module": "@jupyter-widgets/base",
      "model_module_version": "1.2.0",
      "model_name": "LayoutModel",
      "state": {}
     },
     "3938560ab74442ba81c483b0ae22f93b": {
      "model_module": "@jupyter-widgets/controls",
      "model_module_version": "1.5.0",
      "model_name": "DropdownModel",
      "state": {
       "_options_labels": [
        "2019-11",
        "2019-12",
        "2020-01",
        "2020-02",
        "2020-03",
        "2020-04",
        "2020-05",
        "2020-06",
        "2020-07",
        "2020-08",
        "2020-09",
        "2021-01",
        "2021-02",
        "2021-03",
        "2021-04",
        "2021-05",
        "2021-06",
        "2021-07",
        "2021-08",
        "2021-09",
        "2020-11",
        "2020-12",
        "2021-11"
       ],
       "description": "Month :",
       "index": 19,
       "layout": "IPY_MODEL_3fc4c3be90b3482d9165784184cb466a",
       "style": "IPY_MODEL_c9a8814942f643b0a1ea3bb89ff7a620"
      }
     },
     "39c61f66129e4fc6841e4b593c92aa1c": {
      "model_module": "@jupyter-widgets/base",
      "model_module_version": "1.2.0",
      "model_name": "LayoutModel",
      "state": {}
     },
     "3b2cb39058dc46c09b41ad7790c559da": {
      "model_module": "@jupyter-widgets/controls",
      "model_module_version": "1.5.0",
      "model_name": "DescriptionStyleModel",
      "state": {
       "description_width": ""
      }
     },
     "3b69e3fc2826481ba32c7d2c973f6132": {
      "model_module": "@jupyter-widgets/controls",
      "model_module_version": "1.5.0",
      "model_name": "DropdownModel",
      "state": {
       "_options_labels": [
        "2019-11",
        "2019-12",
        "2020-01",
        "2020-02",
        "2020-03",
        "2020-04",
        "2020-05",
        "2020-06",
        "2020-07",
        "2020-08",
        "2020-09",
        "2021-01",
        "2021-02",
        "2021-03",
        "2021-04",
        "2021-05",
        "2021-06",
        "2021-07",
        "2021-08",
        "2021-09",
        "2020-11",
        "2020-12",
        "2021-11"
       ],
       "description": "Month :",
       "index": 12,
       "layout": "IPY_MODEL_ef7a4752a77c47a0a438ce10906024e6",
       "style": "IPY_MODEL_1faacafe20bb4648a57fc9b1f42dd6bd"
      }
     },
     "3bece53d923c4bdb897793e61425de3f": {
      "model_module": "@jupyter-widgets/base",
      "model_module_version": "1.2.0",
      "model_name": "LayoutModel",
      "state": {}
     },
     "3caaf75cbae4497c822c418ca0b9770c": {
      "model_module": "@jupyter-widgets/controls",
      "model_module_version": "1.5.0",
      "model_name": "DropdownModel",
      "state": {
       "_options_labels": [
        "2019-11",
        "2019-12",
        "2020-01",
        "2020-02",
        "2020-03",
        "2020-04",
        "2020-05",
        "2020-06",
        "2020-07",
        "2020-08",
        "2020-09",
        "2020-11",
        "2020-12",
        "2021-01",
        "2021-02",
        "2021-03",
        "2021-04",
        "2021-05",
        "2021-06",
        "2021-07",
        "2021-08",
        "2021-09",
        "2021-11"
       ],
       "description": "Month :",
       "index": 12,
       "layout": "IPY_MODEL_7309b601067e469da0e60c4f081d3f9e",
       "style": "IPY_MODEL_28feeee0e20447e991e0b2333fe5d453"
      }
     },
     "3d3baca2497741688138bbc33caa8bf8": {
      "model_module": "@jupyter-widgets/controls",
      "model_module_version": "1.5.0",
      "model_name": "DropdownModel",
      "state": {
       "_options_labels": [
        "2019-11",
        "2019-12",
        "2020-01",
        "2020-02",
        "2020-03",
        "2020-04",
        "2020-05",
        "2020-06",
        "2020-07",
        "2020-08",
        "2020-09",
        "2020-11",
        "2020-12",
        "2021-01",
        "2021-02",
        "2021-03",
        "2021-04",
        "2021-05",
        "2021-06",
        "2021-07",
        "2021-08",
        "2021-09",
        "2021-11"
       ],
       "description": "Month :",
       "index": 8,
       "layout": "IPY_MODEL_5df608cbac0546eb8704edcc6c3aca13",
       "style": "IPY_MODEL_d0bb403ffc984909b5549e7249fa4c30"
      }
     },
     "3db75bf21a5d4eaeaa06e4dfcc87dd17": {
      "model_module": "@jupyter-widgets/controls",
      "model_module_version": "1.5.0",
      "model_name": "DropdownModel",
      "state": {
       "_options_labels": [
        "2019-11",
        "2019-12",
        "2020-01",
        "2020-02",
        "2020-03",
        "2020-04",
        "2020-05",
        "2020-06",
        "2020-07",
        "2020-08",
        "2020-09",
        "2021-01",
        "2021-02",
        "2021-03",
        "2021-04",
        "2021-05",
        "2021-06",
        "2021-07",
        "2021-08",
        "2021-09",
        "2020-11",
        "2020-12",
        "2021-11"
       ],
       "description": "Month :",
       "index": 5,
       "layout": "IPY_MODEL_617bc2e0bb834e39aec5b87d7c48734c",
       "style": "IPY_MODEL_033f6ddf6308439c8e6a4f888cc9d95d"
      }
     },
     "3dc57ec69f304733989d6acdcded93f7": {
      "model_module": "@jupyter-widgets/controls",
      "model_module_version": "1.5.0",
      "model_name": "DescriptionStyleModel",
      "state": {
       "description_width": ""
      }
     },
     "3ee76b2fb47a4f1abe91b08dc89606d0": {
      "model_module": "@jupyter-widgets/base",
      "model_module_version": "1.2.0",
      "model_name": "LayoutModel",
      "state": {}
     },
     "3fc4c3be90b3482d9165784184cb466a": {
      "model_module": "@jupyter-widgets/base",
      "model_module_version": "1.2.0",
      "model_name": "LayoutModel",
      "state": {}
     },
     "41c0ed9e92584340a8c01d42304b8a82": {
      "model_module": "@jupyter-widgets/controls",
      "model_module_version": "1.5.0",
      "model_name": "DropdownModel",
      "state": {
       "_options_labels": [
        "2019-11",
        "2019-12",
        "2020-01",
        "2020-02",
        "2020-03",
        "2020-04",
        "2020-05",
        "2020-06",
        "2020-07",
        "2020-08",
        "2020-09",
        "2020-11",
        "2020-12",
        "2021-01",
        "2021-02",
        "2021-03",
        "2021-04",
        "2021-05",
        "2021-06",
        "2021-07",
        "2021-08",
        "2021-09",
        "2021-11"
       ],
       "description": "Month :",
       "index": 10,
       "layout": "IPY_MODEL_392b9694f9d14a05ab2f2e3421cee698",
       "style": "IPY_MODEL_0ca2204ff1634e88812a0678939f49e0"
      }
     },
     "41f9a185c12b436c8c678aa79ccc2b35": {
      "model_module": "@jupyter-widgets/controls",
      "model_module_version": "1.5.0",
      "model_name": "DescriptionStyleModel",
      "state": {
       "description_width": ""
      }
     },
     "4205f77fc6114c3caecbded0030e1969": {
      "model_module": "@jupyter-widgets/base",
      "model_module_version": "1.2.0",
      "model_name": "LayoutModel",
      "state": {}
     },
     "424d01b21df64b29b7f442abb7197c1b": {
      "model_module": "@jupyter-widgets/controls",
      "model_module_version": "1.5.0",
      "model_name": "DescriptionStyleModel",
      "state": {
       "description_width": ""
      }
     },
     "440a1c8628174bd898e15a0a355be756": {
      "model_module": "@jupyter-widgets/base",
      "model_module_version": "1.2.0",
      "model_name": "LayoutModel",
      "state": {}
     },
     "45ee596a45d947b48c9017bbc55f7fe5": {
      "model_module": "@jupyter-widgets/base",
      "model_module_version": "1.2.0",
      "model_name": "LayoutModel",
      "state": {}
     },
     "483c07dc631244f4badcc7beece43665": {
      "model_module": "@jupyter-widgets/base",
      "model_module_version": "1.2.0",
      "model_name": "LayoutModel",
      "state": {}
     },
     "487a502fca984b58b0a38204e9a7d475": {
      "model_module": "@jupyter-widgets/controls",
      "model_module_version": "1.5.0",
      "model_name": "DescriptionStyleModel",
      "state": {
       "description_width": ""
      }
     },
     "4aeb918c20884b8f83bbe8916acef6ae": {
      "model_module": "@jupyter-widgets/controls",
      "model_module_version": "1.5.0",
      "model_name": "DropdownModel",
      "state": {
       "_options_labels": [
        "2019-11",
        "2019-12",
        "2020-01",
        "2020-02",
        "2020-03",
        "2020-04",
        "2020-05",
        "2020-06",
        "2020-07",
        "2020-08",
        "2020-09",
        "2021-01",
        "2021-02",
        "2021-03",
        "2021-04",
        "2021-05",
        "2021-06",
        "2021-07",
        "2021-08",
        "2021-09",
        "2020-11",
        "2020-12",
        "2021-11"
       ],
       "description": "Month :",
       "index": 17,
       "layout": "IPY_MODEL_45ee596a45d947b48c9017bbc55f7fe5",
       "style": "IPY_MODEL_bf1ae2f25a13410490bda6d1ed0051ea"
      }
     },
     "4e66156bf523499a82683d175986bfcf": {
      "model_module": "@jupyter-widgets/base",
      "model_module_version": "1.2.0",
      "model_name": "LayoutModel",
      "state": {}
     },
     "4ec35ceccf6c441b98fbe124e6e12f07": {
      "model_module": "@jupyter-widgets/controls",
      "model_module_version": "1.5.0",
      "model_name": "DescriptionStyleModel",
      "state": {
       "description_width": ""
      }
     },
     "4ecdfaef766c47e8b0b8adbdc8cbbfa3": {
      "model_module": "@jupyter-widgets/controls",
      "model_module_version": "1.5.0",
      "model_name": "DescriptionStyleModel",
      "state": {
       "description_width": ""
      }
     },
     "500a9007a7fb4515a063c0e260551953": {
      "model_module": "@jupyter-widgets/controls",
      "model_module_version": "1.5.0",
      "model_name": "DescriptionStyleModel",
      "state": {
       "description_width": ""
      }
     },
     "505c1549828c4c6a838c55296447ebf0": {
      "model_module": "@jupyter-widgets/controls",
      "model_module_version": "1.5.0",
      "model_name": "DescriptionStyleModel",
      "state": {
       "description_width": ""
      }
     },
     "5195ca6219eb43869b0144e2692d37cf": {
      "model_module": "@jupyter-widgets/base",
      "model_module_version": "1.2.0",
      "model_name": "LayoutModel",
      "state": {}
     },
     "5261cf170c304d6084789eeab0852e1e": {
      "model_module": "@jupyter-widgets/base",
      "model_module_version": "1.2.0",
      "model_name": "LayoutModel",
      "state": {}
     },
     "527457a1052a4946b39f9cf0b60138a6": {
      "model_module": "@jupyter-widgets/controls",
      "model_module_version": "1.5.0",
      "model_name": "DropdownModel",
      "state": {
       "_options_labels": [
        "2019-11",
        "2019-12",
        "2020-01",
        "2020-02",
        "2020-03",
        "2020-04",
        "2020-05",
        "2020-06",
        "2020-07",
        "2020-08",
        "2020-09",
        "2021-01",
        "2021-02",
        "2021-03",
        "2021-04",
        "2021-05",
        "2021-06",
        "2021-07",
        "2021-08",
        "2021-09",
        "2020-11",
        "2020-12",
        "2021-11"
       ],
       "description": "Month :",
       "index": 17,
       "layout": "IPY_MODEL_9ebc20a0d9f64649873f49e63322755c",
       "style": "IPY_MODEL_505c1549828c4c6a838c55296447ebf0"
      }
     },
     "52b4cd714a0347d39f3271e712bf7596": {
      "model_module": "@jupyter-widgets/controls",
      "model_module_version": "1.5.0",
      "model_name": "DescriptionStyleModel",
      "state": {
       "description_width": ""
      }
     },
     "549f92a049074f64a6984e52f6e12a84": {
      "model_module": "@jupyter-widgets/base",
      "model_module_version": "1.2.0",
      "model_name": "LayoutModel",
      "state": {}
     },
     "54f7ebc0b1474874b83044eae03019bc": {
      "model_module": "@jupyter-widgets/controls",
      "model_module_version": "1.5.0",
      "model_name": "DropdownModel",
      "state": {
       "_options_labels": [
        "2019-11",
        "2019-12",
        "2020-01",
        "2020-02",
        "2020-03",
        "2020-04",
        "2020-05",
        "2020-06",
        "2020-07",
        "2020-08",
        "2020-09",
        "2021-01",
        "2021-02",
        "2021-03",
        "2021-04",
        "2021-05",
        "2021-06",
        "2021-07",
        "2021-08",
        "2021-09",
        "2020-11",
        "2020-12",
        "2021-11"
       ],
       "description": "Month :",
       "index": 18,
       "layout": "IPY_MODEL_d8e1750911ef4cc09ff736a677f6fb6f",
       "style": "IPY_MODEL_cfe9187735fa46da947713023d8566d9"
      }
     },
     "55d4e00a6d6b4d58875408d1b6ebd7f8": {
      "model_module": "@jupyter-widgets/controls",
      "model_module_version": "1.5.0",
      "model_name": "DescriptionStyleModel",
      "state": {
       "description_width": ""
      }
     },
     "5621d2630cef4374bad8bb525f1ab082": {
      "model_module": "@jupyter-widgets/base",
      "model_module_version": "1.2.0",
      "model_name": "LayoutModel",
      "state": {}
     },
     "57aa276406f94e25ac0c094753d5cf4e": {
      "model_module": "@jupyter-widgets/base",
      "model_module_version": "1.2.0",
      "model_name": "LayoutModel",
      "state": {}
     },
     "57b6c2e759684e56a58f94a25e8b309d": {
      "model_module": "@jupyter-widgets/base",
      "model_module_version": "1.2.0",
      "model_name": "LayoutModel",
      "state": {}
     },
     "5830bad4223d4851bfc1e11f522a33a2": {
      "model_module": "@jupyter-widgets/controls",
      "model_module_version": "1.5.0",
      "model_name": "DescriptionStyleModel",
      "state": {
       "description_width": ""
      }
     },
     "593ac751b0b64b2ea0601f6a0b8c70db": {
      "model_module": "@jupyter-widgets/controls",
      "model_module_version": "1.5.0",
      "model_name": "DescriptionStyleModel",
      "state": {
       "description_width": ""
      }
     },
     "5a87a65d99f448f59446e51707251b39": {
      "model_module": "@jupyter-widgets/controls",
      "model_module_version": "1.5.0",
      "model_name": "DropdownModel",
      "state": {
       "_options_labels": [
        "2019-11",
        "2019-12",
        "2020-01",
        "2020-02",
        "2020-03",
        "2020-04",
        "2020-05",
        "2020-06",
        "2020-07",
        "2020-08",
        "2020-09",
        "2020-11",
        "2020-12",
        "2021-01",
        "2021-02",
        "2021-03",
        "2021-04",
        "2021-05",
        "2021-06",
        "2021-07",
        "2021-08",
        "2021-09",
        "2021-11"
       ],
       "description": "Month :",
       "index": 11,
       "layout": "IPY_MODEL_5195ca6219eb43869b0144e2692d37cf",
       "style": "IPY_MODEL_c9cb65cc105040959357feae9df728d1"
      }
     },
     "5b57d5bd868b4672b4ecf989ce35edb3": {
      "model_module": "@jupyter-widgets/base",
      "model_module_version": "1.2.0",
      "model_name": "LayoutModel",
      "state": {}
     },
     "5c573ed3269c4c29ab14d7fa4cd3f14a": {
      "model_module": "@jupyter-widgets/controls",
      "model_module_version": "1.5.0",
      "model_name": "DropdownModel",
      "state": {
       "_options_labels": [
        "2019-11",
        "2019-12",
        "2020-01",
        "2020-02",
        "2020-03",
        "2020-04",
        "2020-05",
        "2020-06",
        "2020-07",
        "2020-08",
        "2020-09",
        "2021-01",
        "2021-02",
        "2021-03",
        "2021-04",
        "2021-05",
        "2021-06",
        "2021-07",
        "2021-08",
        "2021-09",
        "2020-11",
        "2020-12",
        "2021-11"
       ],
       "description": "Month :",
       "index": 6,
       "layout": "IPY_MODEL_faebd2ab555d46c0a5ab85bfc76b58df",
       "style": "IPY_MODEL_01874869d02e49e8867801e8ac34a91d"
      }
     },
     "5df608cbac0546eb8704edcc6c3aca13": {
      "model_module": "@jupyter-widgets/base",
      "model_module_version": "1.2.0",
      "model_name": "LayoutModel",
      "state": {}
     },
     "5f7273ac11ad43a69253c3213c570a93": {
      "model_module": "@jupyter-widgets/controls",
      "model_module_version": "1.5.0",
      "model_name": "DescriptionStyleModel",
      "state": {
       "description_width": ""
      }
     },
     "6076b7d304194aa986e9eb971d60c61b": {
      "model_module": "@jupyter-widgets/controls",
      "model_module_version": "1.5.0",
      "model_name": "DropdownModel",
      "state": {
       "_options_labels": [
        "2019-11",
        "2019-12",
        "2020-01",
        "2020-02",
        "2020-03",
        "2020-04",
        "2020-05",
        "2020-06",
        "2020-07",
        "2020-08",
        "2020-09",
        "2020-11",
        "2020-12",
        "2021-01",
        "2021-02",
        "2021-03",
        "2021-04",
        "2021-05",
        "2021-06",
        "2021-07",
        "2021-08",
        "2021-09",
        "2021-11"
       ],
       "description": "Month :",
       "index": 12,
       "layout": "IPY_MODEL_39c61f66129e4fc6841e4b593c92aa1c",
       "style": "IPY_MODEL_5f7273ac11ad43a69253c3213c570a93"
      }
     },
     "617bc2e0bb834e39aec5b87d7c48734c": {
      "model_module": "@jupyter-widgets/base",
      "model_module_version": "1.2.0",
      "model_name": "LayoutModel",
      "state": {}
     },
     "6251804d09ca4d6ea2e04ec66424aff2": {
      "model_module": "@jupyter-widgets/controls",
      "model_module_version": "1.5.0",
      "model_name": "DropdownModel",
      "state": {
       "_options_labels": [
        "2019-11",
        "2019-12",
        "2020-01",
        "2020-02",
        "2020-03",
        "2020-04",
        "2020-05",
        "2020-06",
        "2020-07",
        "2020-08",
        "2020-09",
        "2021-01",
        "2021-02",
        "2021-03",
        "2021-04",
        "2021-05",
        "2021-06",
        "2021-07",
        "2021-08",
        "2021-09",
        "2020-11",
        "2020-12",
        "2021-11"
       ],
       "description": "Month :",
       "index": 16,
       "layout": "IPY_MODEL_976c2fe25aad479cb5a8f81347b4e6e8",
       "style": "IPY_MODEL_8e6affae2d1d42da8908bb7f6caa6ef0"
      }
     },
     "62d591b8ac954a3cb997b40bcc182bf0": {
      "model_module": "@jupyter-widgets/controls",
      "model_module_version": "1.5.0",
      "model_name": "DescriptionStyleModel",
      "state": {
       "description_width": ""
      }
     },
     "635eafa8a8ff45a2836731b88eaad090": {
      "model_module": "@jupyter-widgets/base",
      "model_module_version": "1.2.0",
      "model_name": "LayoutModel",
      "state": {
       "height": "10px"
      }
     },
     "66699ea89d52496fb55a4a5e1258bfdf": {
      "model_module": "@jupyter-widgets/controls",
      "model_module_version": "1.5.0",
      "model_name": "DescriptionStyleModel",
      "state": {
       "description_width": ""
      }
     },
     "67d572db59404a5c8efc87d5579b9420": {
      "model_module": "@jupyter-widgets/output",
      "model_module_version": "1.0.0",
      "model_name": "OutputModel",
      "state": {
       "layout": "IPY_MODEL_df98ded7796a49fa8824d7355eaca626",
       "outputs": [
        {
         "data": {
          "image/png": "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\n",
          "text/plain": "<Figure size 720x720 with 1 Axes>"
         },
         "metadata": {},
         "output_type": "display_data"
        }
       ]
      }
     },
     "696f1a16c4064aeca3d6902bf7e1fa16": {
      "model_module": "@jupyter-widgets/base",
      "model_module_version": "1.2.0",
      "model_name": "LayoutModel",
      "state": {}
     },
     "6a22a4ab066f452ba0735172276e1e8f": {
      "model_module": "@jupyter-widgets/controls",
      "model_module_version": "1.5.0",
      "model_name": "DescriptionStyleModel",
      "state": {
       "description_width": ""
      }
     },
     "6a4ac82e3fe349ac974a2701c8108637": {
      "model_module": "@jupyter-widgets/controls",
      "model_module_version": "1.5.0",
      "model_name": "DropdownModel",
      "state": {
       "_options_labels": [
        "2019-11",
        "2019-12",
        "2020-01",
        "2020-02",
        "2020-03",
        "2020-04",
        "2020-05",
        "2020-06",
        "2020-07",
        "2020-08",
        "2020-09",
        "2021-01",
        "2021-02",
        "2021-03",
        "2021-04",
        "2021-05",
        "2021-06",
        "2021-07",
        "2021-08",
        "2021-09",
        "2020-11",
        "2020-12",
        "2021-11"
       ],
       "description": "Month :",
       "index": 18,
       "layout": "IPY_MODEL_9f37c61a266246138e569ffc71bf8931",
       "style": "IPY_MODEL_77a0d8f9a52047ba8a17afb541923449"
      }
     },
     "6d00c7623479483aa3750e12fc1d569d": {
      "model_module": "@jupyter-widgets/controls",
      "model_module_version": "1.5.0",
      "model_name": "DropdownModel",
      "state": {
       "_options_labels": [
        "2019-11",
        "2019-12",
        "2020-01",
        "2020-02",
        "2020-03",
        "2020-04",
        "2020-05",
        "2020-06",
        "2020-07",
        "2020-08",
        "2020-09",
        "2020-11",
        "2020-12",
        "2021-01",
        "2021-02",
        "2021-03",
        "2021-04",
        "2021-05",
        "2021-06",
        "2021-07",
        "2021-08",
        "2021-09",
        "2021-11"
       ],
       "description": "Month :",
       "index": 19,
       "layout": "IPY_MODEL_9e7cdc883109458493cf345a2bfcc516",
       "style": "IPY_MODEL_c1d852a030444760a3fa16872271813b"
      }
     },
     "6dabf1fb769045758a689ce3b2b17ee5": {
      "model_module": "@jupyter-widgets/controls",
      "model_module_version": "1.5.0",
      "model_name": "DescriptionStyleModel",
      "state": {
       "description_width": ""
      }
     },
     "6e1efb5246f045a2b7e212d5e7bdaf6e": {
      "model_module": "@jupyter-widgets/base",
      "model_module_version": "1.2.0",
      "model_name": "LayoutModel",
      "state": {}
     },
     "6fc54d0bbae448e591c7791afa8bdd2f": {
      "model_module": "@jupyter-widgets/output",
      "model_module_version": "1.0.0",
      "model_name": "OutputModel",
      "state": {
       "layout": "IPY_MODEL_b281a887edb34578a07de3ca9cba8a0f"
      }
     },
     "70963e17091e4bc3b931e1a7c67b6572": {
      "model_module": "@jupyter-widgets/controls",
      "model_module_version": "1.5.0",
      "model_name": "DropdownModel",
      "state": {
       "_options_labels": [
        "2019-11",
        "2019-12",
        "2020-01",
        "2020-02",
        "2020-03",
        "2020-04",
        "2020-05",
        "2020-06",
        "2020-07",
        "2020-08",
        "2020-09",
        "2021-01",
        "2021-02",
        "2021-03",
        "2021-04",
        "2021-05",
        "2021-06",
        "2021-07",
        "2021-08",
        "2021-09",
        "2020-11",
        "2020-12",
        "2021-11"
       ],
       "description": "Month :",
       "index": 16,
       "layout": "IPY_MODEL_696f1a16c4064aeca3d6902bf7e1fa16",
       "style": "IPY_MODEL_c8ab424ccce14c0d811c9800f1894ebc"
      }
     },
     "70d416c3b35a44dc924a3acdca1b0124": {
      "model_module": "@jupyter-widgets/base",
      "model_module_version": "1.2.0",
      "model_name": "LayoutModel",
      "state": {}
     },
     "71933396f5894328ba3053814fc93d57": {
      "model_module": "@jupyter-widgets/controls",
      "model_module_version": "1.5.0",
      "model_name": "DescriptionStyleModel",
      "state": {
       "description_width": ""
      }
     },
     "71a94eea5f73406cbb12f5d529d7df25": {
      "model_module": "@jupyter-widgets/base",
      "model_module_version": "1.2.0",
      "model_name": "LayoutModel",
      "state": {}
     },
     "7309b601067e469da0e60c4f081d3f9e": {
      "model_module": "@jupyter-widgets/base",
      "model_module_version": "1.2.0",
      "model_name": "LayoutModel",
      "state": {}
     },
     "74d296f6684640afaa94fce09b72cacd": {
      "model_module": "@jupyter-widgets/controls",
      "model_module_version": "1.5.0",
      "model_name": "DropdownModel",
      "state": {
       "_options_labels": [
        "2019-11",
        "2019-12",
        "2020-01",
        "2020-02",
        "2020-03",
        "2020-04",
        "2020-05",
        "2020-06",
        "2020-07",
        "2020-08",
        "2020-09",
        "2020-11",
        "2020-12",
        "2021-01",
        "2021-02",
        "2021-03",
        "2021-04",
        "2021-05",
        "2021-06",
        "2021-07",
        "2021-08",
        "2021-09",
        "2021-11"
       ],
       "description": "Month :",
       "index": 12,
       "layout": "IPY_MODEL_2438ab5a6bde420a971651b2114aaacf",
       "style": "IPY_MODEL_c5dd9a2e34324d9f9bcc2cfd554620c6"
      }
     },
     "7543d5883d314600b3ec22e506a87d41": {
      "model_module": "@jupyter-widgets/controls",
      "model_module_version": "1.5.0",
      "model_name": "DropdownModel",
      "state": {
       "_options_labels": [
        "2019-11",
        "2019-12",
        "2020-01",
        "2020-02",
        "2020-03",
        "2020-04",
        "2020-05",
        "2020-06",
        "2020-07",
        "2020-08",
        "2020-09",
        "2021-01",
        "2021-02",
        "2021-03",
        "2021-04",
        "2021-05",
        "2021-06",
        "2021-07",
        "2021-08",
        "2021-09",
        "2020-11",
        "2020-12",
        "2021-11"
       ],
       "description": "Month :",
       "index": 20,
       "layout": "IPY_MODEL_70d416c3b35a44dc924a3acdca1b0124",
       "style": "IPY_MODEL_927dd55ff94d4406a7c0fd8c59a59b11"
      }
     },
     "75fe8cb9748948bab1f2a68a1f066186": {
      "model_module": "@jupyter-widgets/base",
      "model_module_version": "1.2.0",
      "model_name": "LayoutModel",
      "state": {}
     },
     "76183ce78a0f4a3cb67dee5721c79cb4": {
      "model_module": "@jupyter-widgets/controls",
      "model_module_version": "1.5.0",
      "model_name": "DropdownModel",
      "state": {
       "_options_labels": [
        "2019-11",
        "2019-12",
        "2020-01",
        "2020-02",
        "2020-03",
        "2020-04",
        "2020-05",
        "2020-06",
        "2020-07",
        "2020-08",
        "2020-09",
        "2020-11",
        "2020-12",
        "2021-01",
        "2021-02",
        "2021-03",
        "2021-04",
        "2021-05",
        "2021-06",
        "2021-07",
        "2021-08",
        "2021-09",
        "2021-11"
       ],
       "description": "Month :",
       "index": 12,
       "layout": "IPY_MODEL_01d8d9fc857f49fca3a4a453d412c068",
       "style": "IPY_MODEL_fae5e60aa11f405aa9d1d92543799cf5"
      }
     },
     "77a0d8f9a52047ba8a17afb541923449": {
      "model_module": "@jupyter-widgets/controls",
      "model_module_version": "1.5.0",
      "model_name": "DescriptionStyleModel",
      "state": {
       "description_width": ""
      }
     },
     "792ec13ce4b34fa0b118286cf76c2858": {
      "model_module": "@jupyter-widgets/base",
      "model_module_version": "1.2.0",
      "model_name": "LayoutModel",
      "state": {}
     },
     "7b2dde82f953483a81c6359b3ffd2c68": {
      "model_module": "@jupyter-widgets/base",
      "model_module_version": "1.2.0",
      "model_name": "LayoutModel",
      "state": {}
     },
     "7b427689ecd647328422bb9907e4f0ec": {
      "model_module": "@jupyter-widgets/controls",
      "model_module_version": "1.5.0",
      "model_name": "DescriptionStyleModel",
      "state": {
       "description_width": ""
      }
     },
     "7b8f6f5a1b2040c59ffa34fd85a01bf8": {
      "model_module": "@jupyter-widgets/controls",
      "model_module_version": "1.5.0",
      "model_name": "DropdownModel",
      "state": {
       "_options_labels": [
        "2019-11",
        "2019-12",
        "2020-01",
        "2020-02",
        "2020-03",
        "2020-04",
        "2020-05",
        "2020-06",
        "2020-07",
        "2020-08",
        "2020-09",
        "2020-11",
        "2020-12",
        "2021-01",
        "2021-02",
        "2021-03",
        "2021-04",
        "2021-05",
        "2021-06",
        "2021-07",
        "2021-08",
        "2021-09",
        "2021-11"
       ],
       "description": "Month :",
       "index": 5,
       "layout": "IPY_MODEL_146906b2e2ff47648c09be30c9842083",
       "style": "IPY_MODEL_9c254d0da2344855ba28ce84fd2d41ac"
      }
     },
     "7bb8b40bbfa142049e068fc158a54278": {
      "model_module": "@jupyter-widgets/base",
      "model_module_version": "1.2.0",
      "model_name": "LayoutModel",
      "state": {}
     },
     "7c41b55033634050accffc14d8f81d8a": {
      "model_module": "@jupyter-widgets/controls",
      "model_module_version": "1.5.0",
      "model_name": "DropdownModel",
      "state": {
       "_options_labels": [
        "Anti-social behaviour",
        "Criminal damage and arson",
        "Violence and sexual offences",
        "Other theft",
        "Public order",
        "Robbery",
        "Burglary",
        "Shoplifting",
        "Theft from the person",
        "Other crime",
        "Possession of weapons",
        "Vehicle crime",
        "Drugs",
        "Bicycle theft"
       ],
       "description": "Crime Type :",
       "index": 6,
       "layout": "IPY_MODEL_85ba29b648ce421da4115df3dc1cbb53",
       "style": "IPY_MODEL_55d4e00a6d6b4d58875408d1b6ebd7f8"
      }
     },
     "7dfb1b45547549efb08b88d0270025de": {
      "model_module": "@jupyter-widgets/base",
      "model_module_version": "1.2.0",
      "model_name": "LayoutModel",
      "state": {}
     },
     "7e5a41f7589a486394eba552422d440c": {
      "model_module": "@jupyter-widgets/controls",
      "model_module_version": "1.5.0",
      "model_name": "DescriptionStyleModel",
      "state": {
       "description_width": ""
      }
     },
     "7eabe8d60ac04678bb1a62785524f91e": {
      "model_module": "@jupyter-widgets/base",
      "model_module_version": "1.2.0",
      "model_name": "LayoutModel",
      "state": {}
     },
     "7ef50e242a2d4914957291cdc11b1c5b": {
      "model_module": "@jupyter-widgets/controls",
      "model_module_version": "1.5.0",
      "model_name": "DropdownModel",
      "state": {
       "_options_labels": [
        "2019-11",
        "2019-12",
        "2020-01",
        "2020-02",
        "2020-03",
        "2020-04",
        "2020-05",
        "2020-06",
        "2020-07",
        "2020-08",
        "2020-09",
        "2020-11",
        "2020-12",
        "2021-01",
        "2021-02",
        "2021-03",
        "2021-04",
        "2021-05",
        "2021-06",
        "2021-07",
        "2021-08",
        "2021-09",
        "2021-11"
       ],
       "description": "Month :",
       "index": 5,
       "layout": "IPY_MODEL_31ad554305f545d9934824e8c7250596",
       "style": "IPY_MODEL_c3a1df1fca944e1ab6cbae0b8c8356a1"
      }
     },
     "7f2befc85d7f40f6a7b9ef30b4b0e7c6": {
      "model_module": "@jupyter-widgets/controls",
      "model_module_version": "1.5.0",
      "model_name": "DropdownModel",
      "state": {
       "_options_labels": [
        "2019-11",
        "2019-12",
        "2020-01",
        "2020-02",
        "2020-03",
        "2020-04",
        "2020-05",
        "2020-06",
        "2020-07",
        "2020-08",
        "2020-09",
        "2020-11",
        "2020-12",
        "2021-01",
        "2021-02",
        "2021-03",
        "2021-04",
        "2021-05",
        "2021-06",
        "2021-07",
        "2021-08",
        "2021-09",
        "2021-11"
       ],
       "description": "Month :",
       "index": 13,
       "layout": "IPY_MODEL_5261cf170c304d6084789eeab0852e1e",
       "style": "IPY_MODEL_66699ea89d52496fb55a4a5e1258bfdf"
      }
     },
     "805d95299a6a439d87d0b79be5872d3a": {
      "model_module": "@jupyter-widgets/controls",
      "model_module_version": "1.5.0",
      "model_name": "DropdownModel",
      "state": {
       "_options_labels": [
        "2019-11",
        "2019-12",
        "2020-01",
        "2020-02",
        "2020-03",
        "2020-04",
        "2020-05",
        "2020-06",
        "2020-07",
        "2020-08",
        "2020-09",
        "2020-11",
        "2020-12",
        "2021-01",
        "2021-02",
        "2021-03",
        "2021-04",
        "2021-05",
        "2021-06",
        "2021-07",
        "2021-08",
        "2021-09",
        "2021-11"
       ],
       "description": "Month :",
       "index": 12,
       "layout": "IPY_MODEL_7bb8b40bbfa142049e068fc158a54278",
       "style": "IPY_MODEL_6dabf1fb769045758a689ce3b2b17ee5"
      }
     },
     "822a42449983449882fba73542cd3e16": {
      "model_module": "@jupyter-widgets/controls",
      "model_module_version": "1.5.0",
      "model_name": "DropdownModel",
      "state": {
       "_options_labels": [
        "2019-11",
        "2019-12",
        "2020-01",
        "2020-02",
        "2020-03",
        "2020-04",
        "2020-05",
        "2020-06",
        "2020-07",
        "2020-08",
        "2020-09",
        "2020-11",
        "2020-12",
        "2021-01",
        "2021-02",
        "2021-03",
        "2021-04",
        "2021-05",
        "2021-06",
        "2021-07",
        "2021-08",
        "2021-09",
        "2021-11"
       ],
       "description": "Month :",
       "index": 6,
       "layout": "IPY_MODEL_0147c7bb23074e97bb6b6148cd813bbe",
       "style": "IPY_MODEL_f8cf9ef60f68493886e50f863151a476"
      }
     },
     "82734fda11c84d39b9f4c3e7190ca8f7": {
      "model_module": "@jupyter-widgets/controls",
      "model_module_version": "1.5.0",
      "model_name": "DescriptionStyleModel",
      "state": {
       "description_width": ""
      }
     },
     "837e160319d14293ad5e60b88cb0b7fc": {
      "model_module": "@jupyter-widgets/controls",
      "model_module_version": "1.5.0",
      "model_name": "DropdownModel",
      "state": {
       "_options_labels": [
        "2019-11",
        "2019-12",
        "2020-01",
        "2020-02",
        "2020-03",
        "2020-04",
        "2020-05",
        "2020-06",
        "2020-07",
        "2020-08",
        "2020-09",
        "2020-11",
        "2020-12",
        "2021-01",
        "2021-02",
        "2021-03",
        "2021-04",
        "2021-05",
        "2021-06",
        "2021-07",
        "2021-08",
        "2021-09",
        "2021-11"
       ],
       "description": "Month :",
       "index": 12,
       "layout": "IPY_MODEL_2437549bdf9d45049c96afcf2c1ce2e4",
       "style": "IPY_MODEL_41f9a185c12b436c8c678aa79ccc2b35"
      }
     },
     "83e258c55554446e8713fc09e4868df1": {
      "model_module": "@jupyter-widgets/controls",
      "model_module_version": "1.5.0",
      "model_name": "DescriptionStyleModel",
      "state": {
       "description_width": ""
      }
     },
     "8445ad10edd34efabf11f7bd09fda424": {
      "model_module": "@jupyter-widgets/base",
      "model_module_version": "1.2.0",
      "model_name": "LayoutModel",
      "state": {}
     },
     "858e81a927b74c6cb1a1a8027a10b5b9": {
      "model_module": "@jupyter-widgets/controls",
      "model_module_version": "1.5.0",
      "model_name": "DropdownModel",
      "state": {
       "_options_labels": [
        "2019-11",
        "2019-12",
        "2020-01",
        "2020-02",
        "2020-03",
        "2020-04",
        "2020-05",
        "2020-06",
        "2020-07",
        "2020-08",
        "2020-09",
        "2020-11",
        "2020-12",
        "2021-01",
        "2021-02",
        "2021-03",
        "2021-04",
        "2021-05",
        "2021-06",
        "2021-07",
        "2021-08",
        "2021-09",
        "2021-11"
       ],
       "description": "Month :",
       "index": 11,
       "layout": "IPY_MODEL_c561bb75fbce4661802452a72a1dd900",
       "style": "IPY_MODEL_874328dc91de4ffa9c0d82ca4f85876b"
      }
     },
     "85ba29b648ce421da4115df3dc1cbb53": {
      "model_module": "@jupyter-widgets/base",
      "model_module_version": "1.2.0",
      "model_name": "LayoutModel",
      "state": {}
     },
     "8662e57c8b6d4a3c8dfedc7184a044bc": {
      "model_module": "@jupyter-widgets/base",
      "model_module_version": "1.2.0",
      "model_name": "LayoutModel",
      "state": {}
     },
     "8720266f4df34c899756bc7d97568473": {
      "model_module": "@jupyter-widgets/controls",
      "model_module_version": "1.5.0",
      "model_name": "DropdownModel",
      "state": {
       "_options_labels": [
        "2019-11",
        "2019-12",
        "2020-01",
        "2020-02",
        "2020-03",
        "2020-04",
        "2020-05",
        "2020-06",
        "2020-07",
        "2020-08",
        "2020-09",
        "2020-11",
        "2020-12",
        "2021-01",
        "2021-02",
        "2021-03",
        "2021-04",
        "2021-05",
        "2021-06",
        "2021-07",
        "2021-08",
        "2021-09",
        "2021-11"
       ],
       "description": "Month :",
       "index": 8,
       "layout": "IPY_MODEL_3ee76b2fb47a4f1abe91b08dc89606d0",
       "style": "IPY_MODEL_932fe467dade4cd6849a8ecd88e841bc"
      }
     },
     "874328dc91de4ffa9c0d82ca4f85876b": {
      "model_module": "@jupyter-widgets/controls",
      "model_module_version": "1.5.0",
      "model_name": "DescriptionStyleModel",
      "state": {
       "description_width": ""
      }
     },
     "87451bfc0b98421c95b7d9d663c6fc31": {
      "model_module": "@jupyter-widgets/output",
      "model_module_version": "1.0.0",
      "model_name": "OutputModel",
      "state": {
       "layout": "IPY_MODEL_635eafa8a8ff45a2836731b88eaad090"
      }
     },
     "8a66018bfe724d0fa5fc744260cd7be3": {
      "model_module": "@jupyter-widgets/controls",
      "model_module_version": "1.5.0",
      "model_name": "DropdownModel",
      "state": {
       "_options_labels": [
        "2019-11",
        "2019-12",
        "2020-01",
        "2020-02",
        "2020-03",
        "2020-04",
        "2020-05",
        "2020-06",
        "2020-07",
        "2020-08",
        "2020-09",
        "2020-11",
        "2020-12",
        "2021-01",
        "2021-02",
        "2021-03",
        "2021-04",
        "2021-05",
        "2021-06",
        "2021-07",
        "2021-08",
        "2021-09",
        "2021-11"
       ],
       "description": "Month :",
       "index": 11,
       "layout": "IPY_MODEL_a94a6958290148438d380897945a8abe",
       "style": "IPY_MODEL_2d7f2f7d8805432996f8e9595b223582"
      }
     },
     "8aa1aab688fd40baa71ec153dbcb5c30": {
      "model_module": "@jupyter-widgets/output",
      "model_module_version": "1.0.0",
      "model_name": "OutputModel",
      "state": {
       "layout": "IPY_MODEL_be1b3a7ab0c646819ad163623140c8d7"
      }
     },
     "8af219968cdb444ca8696a36ae5b5994": {
      "model_module": "@jupyter-widgets/controls",
      "model_module_version": "1.5.0",
      "model_name": "DropdownModel",
      "state": {
       "_options_labels": [
        "2019-11",
        "2019-12",
        "2020-01",
        "2020-02",
        "2020-03",
        "2020-04",
        "2020-05",
        "2020-06",
        "2020-07",
        "2020-08",
        "2020-09",
        "2020-11",
        "2020-12",
        "2021-01",
        "2021-02",
        "2021-03",
        "2021-04",
        "2021-05",
        "2021-06",
        "2021-07",
        "2021-08",
        "2021-09",
        "2021-11"
       ],
       "description": "Month :",
       "index": 0,
       "layout": "IPY_MODEL_7b2dde82f953483a81c6359b3ffd2c68",
       "style": "IPY_MODEL_a5a521c217494615aedda4c0d08df80f"
      }
     },
     "8c01a531aeb34e748800ca8661571450": {
      "model_module": "@jupyter-widgets/controls",
      "model_module_version": "1.5.0",
      "model_name": "DropdownModel",
      "state": {
       "_options_labels": [
        "2019-11",
        "2019-12",
        "2020-01",
        "2020-02",
        "2020-03",
        "2020-04",
        "2020-05",
        "2020-06",
        "2020-07",
        "2020-08",
        "2020-09",
        "2020-11",
        "2020-12",
        "2021-01",
        "2021-02",
        "2021-03",
        "2021-04",
        "2021-05",
        "2021-06",
        "2021-07",
        "2021-08",
        "2021-09",
        "2021-11"
       ],
       "description": "Month :",
       "index": 7,
       "layout": "IPY_MODEL_4e66156bf523499a82683d175986bfcf",
       "style": "IPY_MODEL_905ef9073e424430bb50584528ac9f10"
      }
     },
     "8e4b1521146b4e96bb59fb8e650089b5": {
      "model_module": "@jupyter-widgets/controls",
      "model_module_version": "1.5.0",
      "model_name": "DropdownModel",
      "state": {
       "_options_labels": [
        "2019-11",
        "2019-12",
        "2020-01",
        "2020-02",
        "2020-03",
        "2020-04",
        "2020-05",
        "2020-06",
        "2020-07",
        "2020-08",
        "2020-09",
        "2021-01",
        "2021-02",
        "2021-03",
        "2021-04",
        "2021-05",
        "2021-06",
        "2021-07",
        "2021-08",
        "2021-09",
        "2020-11",
        "2020-12",
        "2021-11"
       ],
       "description": "Month :",
       "index": 17,
       "layout": "IPY_MODEL_2d342e917323438ebb12717c4dc50f3a",
       "style": "IPY_MODEL_c3a4f1cf826d4c48a4dbe33749be3310"
      }
     },
     "8e6affae2d1d42da8908bb7f6caa6ef0": {
      "model_module": "@jupyter-widgets/controls",
      "model_module_version": "1.5.0",
      "model_name": "DescriptionStyleModel",
      "state": {
       "description_width": ""
      }
     },
     "8e73b10222d544b59e383bca5d83b9af": {
      "model_module": "@jupyter-widgets/base",
      "model_module_version": "1.2.0",
      "model_name": "LayoutModel",
      "state": {}
     },
     "8f22493a2f6048f09a7492d7ce2fc6de": {
      "model_module": "@jupyter-widgets/controls",
      "model_module_version": "1.5.0",
      "model_name": "DropdownModel",
      "state": {
       "_options_labels": [
        "2019-11",
        "2019-12",
        "2020-01",
        "2020-02",
        "2020-03",
        "2020-04",
        "2020-05",
        "2020-06",
        "2020-07",
        "2020-08",
        "2020-09",
        "2021-01",
        "2021-02",
        "2021-03",
        "2021-04",
        "2021-05",
        "2021-06",
        "2021-07",
        "2021-08",
        "2021-09",
        "2020-11",
        "2020-12",
        "2021-11"
       ],
       "description": "Month :",
       "index": 16,
       "layout": "IPY_MODEL_bc95acbdff3b4d0cb6e35ee6a8c09f55",
       "style": "IPY_MODEL_3302afcdef6346108e358f874faf22ea"
      }
     },
     "8f2c86f318cd4a57b6fc998bfecf17f1": {
      "model_module": "@jupyter-widgets/controls",
      "model_module_version": "1.5.0",
      "model_name": "DescriptionStyleModel",
      "state": {
       "description_width": ""
      }
     },
     "8f4d6eced81d453e8ec97e921c2985e5": {
      "model_module": "@jupyter-widgets/controls",
      "model_module_version": "1.5.0",
      "model_name": "DropdownModel",
      "state": {
       "_options_labels": [
        "2019-11",
        "2019-12",
        "2020-01",
        "2020-02",
        "2020-03",
        "2020-04",
        "2020-05",
        "2020-06",
        "2020-07",
        "2020-08",
        "2020-09",
        "2021-01",
        "2021-02",
        "2021-03",
        "2021-04",
        "2021-05",
        "2021-06",
        "2021-07",
        "2021-08",
        "2021-09",
        "2020-11",
        "2020-12",
        "2021-11"
       ],
       "description": "Month :",
       "index": 16,
       "layout": "IPY_MODEL_af1a1c4b03d045b6a8d6ed1b07e5cc32",
       "style": "IPY_MODEL_487a502fca984b58b0a38204e9a7d475"
      }
     },
     "905ef9073e424430bb50584528ac9f10": {
      "model_module": "@jupyter-widgets/controls",
      "model_module_version": "1.5.0",
      "model_name": "DescriptionStyleModel",
      "state": {
       "description_width": ""
      }
     },
     "927dd55ff94d4406a7c0fd8c59a59b11": {
      "model_module": "@jupyter-widgets/controls",
      "model_module_version": "1.5.0",
      "model_name": "DescriptionStyleModel",
      "state": {
       "description_width": ""
      }
     },
     "932fe467dade4cd6849a8ecd88e841bc": {
      "model_module": "@jupyter-widgets/controls",
      "model_module_version": "1.5.0",
      "model_name": "DescriptionStyleModel",
      "state": {
       "description_width": ""
      }
     },
     "9408a1d886f2491a9162efb625e0651c": {
      "model_module": "@jupyter-widgets/base",
      "model_module_version": "1.2.0",
      "model_name": "LayoutModel",
      "state": {}
     },
     "9568daff13584d11b93c48bf7ac4bb03": {
      "model_module": "@jupyter-widgets/controls",
      "model_module_version": "1.5.0",
      "model_name": "DescriptionStyleModel",
      "state": {
       "description_width": ""
      }
     },
     "96d8afe75f954d7d8eff7f35892cc9d1": {
      "model_module": "@jupyter-widgets/controls",
      "model_module_version": "1.5.0",
      "model_name": "DescriptionStyleModel",
      "state": {
       "description_width": ""
      }
     },
     "976c2fe25aad479cb5a8f81347b4e6e8": {
      "model_module": "@jupyter-widgets/base",
      "model_module_version": "1.2.0",
      "model_name": "LayoutModel",
      "state": {}
     },
     "98051fb57fe04781a6e51cd780a41aa7": {
      "model_module": "@jupyter-widgets/controls",
      "model_module_version": "1.5.0",
      "model_name": "DropdownModel",
      "state": {
       "_options_labels": [
        "2019-11",
        "2019-12",
        "2020-01",
        "2020-02",
        "2020-03",
        "2020-04",
        "2020-05",
        "2020-06",
        "2020-07",
        "2020-08",
        "2020-09",
        "2020-11",
        "2020-12",
        "2021-01",
        "2021-02",
        "2021-03",
        "2021-04",
        "2021-05",
        "2021-06",
        "2021-07",
        "2021-08",
        "2021-09",
        "2021-11"
       ],
       "description": "Month :",
       "index": 15,
       "layout": "IPY_MODEL_0853375f17914f32ab0d5a6fc7d16981",
       "style": "IPY_MODEL_fd4b2611507c4ca59b9e9f0f53da109f"
      }
     },
     "9930e4c221f54f868cfc37551727f6ab": {
      "model_module": "@jupyter-widgets/base",
      "model_module_version": "1.2.0",
      "model_name": "LayoutModel",
      "state": {}
     },
     "994aadccf3014d8fa8aeaab04fdddc32": {
      "model_module": "@jupyter-widgets/controls",
      "model_module_version": "1.5.0",
      "model_name": "DescriptionStyleModel",
      "state": {
       "description_width": ""
      }
     },
     "99d39d64f5624d55ad078646810a4a7c": {
      "model_module": "@jupyter-widgets/controls",
      "model_module_version": "1.5.0",
      "model_name": "DescriptionStyleModel",
      "state": {
       "description_width": ""
      }
     },
     "9a11cb463ec44231bc258c73ed8b9eac": {
      "model_module": "@jupyter-widgets/controls",
      "model_module_version": "1.5.0",
      "model_name": "DropdownModel",
      "state": {
       "_options_labels": [
        "2019-11",
        "2019-12",
        "2020-01",
        "2020-02",
        "2020-03",
        "2020-04",
        "2020-05",
        "2020-06",
        "2020-07",
        "2020-08",
        "2020-09",
        "2020-11",
        "2020-12",
        "2021-01",
        "2021-02",
        "2021-03",
        "2021-04",
        "2021-05",
        "2021-06",
        "2021-07",
        "2021-08",
        "2021-09",
        "2021-11"
       ],
       "description": "Month :",
       "index": 12,
       "layout": "IPY_MODEL_0f8acd633154444693fb7d1da945f725",
       "style": "IPY_MODEL_dc2d5f1475bf451bb96cca18141c6697"
      }
     },
     "9a4b98a7a8634949a57f58729d1d414f": {
      "model_module": "@jupyter-widgets/controls",
      "model_module_version": "1.5.0",
      "model_name": "DropdownModel",
      "state": {
       "_options_labels": [
        "2019-11",
        "2019-12",
        "2020-01",
        "2020-02",
        "2020-03",
        "2020-04",
        "2020-05",
        "2020-06",
        "2020-07",
        "2020-08",
        "2020-09",
        "2021-01",
        "2021-02",
        "2021-03",
        "2021-04",
        "2021-05",
        "2021-06",
        "2021-07",
        "2021-08",
        "2021-09",
        "2020-11",
        "2020-12",
        "2021-11"
       ],
       "description": "Month :",
       "index": 17,
       "layout": "IPY_MODEL_483c07dc631244f4badcc7beece43665",
       "style": "IPY_MODEL_9568daff13584d11b93c48bf7ac4bb03"
      }
     },
     "9a573392972a421cb93514fe5e13f992": {
      "model_module": "@jupyter-widgets/controls",
      "model_module_version": "1.5.0",
      "model_name": "DropdownModel",
      "state": {
       "_options_labels": [
        "2019-11",
        "2019-12",
        "2020-01",
        "2020-02",
        "2020-03",
        "2020-04",
        "2020-05",
        "2020-06",
        "2020-07",
        "2020-08",
        "2020-09",
        "2020-11",
        "2020-12",
        "2021-01",
        "2021-02",
        "2021-03",
        "2021-04",
        "2021-05",
        "2021-06",
        "2021-07",
        "2021-08",
        "2021-09",
        "2021-11"
       ],
       "description": "Month :",
       "index": 5,
       "layout": "IPY_MODEL_1cd60041e77b438794b1ffef91d8ccde",
       "style": "IPY_MODEL_f7bd102f120e4b0fa1dc231f1c4ba3e1"
      }
     },
     "9bf303b9732246c5a683455d7f85ae8c": {
      "model_module": "@jupyter-widgets/controls",
      "model_module_version": "1.5.0",
      "model_name": "DescriptionStyleModel",
      "state": {
       "description_width": ""
      }
     },
     "9c254d0da2344855ba28ce84fd2d41ac": {
      "model_module": "@jupyter-widgets/controls",
      "model_module_version": "1.5.0",
      "model_name": "DescriptionStyleModel",
      "state": {
       "description_width": ""
      }
     },
     "9cb56f9d80e649349181772a23f821dc": {
      "model_module": "@jupyter-widgets/controls",
      "model_module_version": "1.5.0",
      "model_name": "DescriptionStyleModel",
      "state": {
       "description_width": ""
      }
     },
     "9e637cb6e6bd4a9c89a9a4dca4e62a3a": {
      "model_module": "@jupyter-widgets/controls",
      "model_module_version": "1.5.0",
      "model_name": "DropdownModel",
      "state": {
       "_options_labels": [
        "2019-11",
        "2019-12",
        "2020-01",
        "2020-02",
        "2020-03",
        "2020-04",
        "2020-05",
        "2020-06",
        "2020-07",
        "2020-08",
        "2020-09",
        "2021-01",
        "2021-02",
        "2021-03",
        "2021-04",
        "2021-05",
        "2021-06",
        "2021-07",
        "2021-08",
        "2021-09",
        "2020-11",
        "2020-12",
        "2021-11"
       ],
       "description": "Month :",
       "index": 21,
       "layout": "IPY_MODEL_8662e57c8b6d4a3c8dfedc7184a044bc",
       "style": "IPY_MODEL_2daee5e6aaae46efa878ac7f7594862a"
      }
     },
     "9e7cdc883109458493cf345a2bfcc516": {
      "model_module": "@jupyter-widgets/base",
      "model_module_version": "1.2.0",
      "model_name": "LayoutModel",
      "state": {}
     },
     "9ebc20a0d9f64649873f49e63322755c": {
      "model_module": "@jupyter-widgets/base",
      "model_module_version": "1.2.0",
      "model_name": "LayoutModel",
      "state": {}
     },
     "9f37c61a266246138e569ffc71bf8931": {
      "model_module": "@jupyter-widgets/base",
      "model_module_version": "1.2.0",
      "model_name": "LayoutModel",
      "state": {}
     },
     "a378a0dc856447d8a04b5925f284672b": {
      "model_module": "@jupyter-widgets/controls",
      "model_module_version": "1.5.0",
      "model_name": "DropdownModel",
      "state": {
       "_options_labels": [
        "2019-11",
        "2019-12",
        "2020-01",
        "2020-02",
        "2020-03",
        "2020-04",
        "2020-05",
        "2020-06",
        "2020-07",
        "2020-08",
        "2020-09",
        "2021-01",
        "2021-02",
        "2021-03",
        "2021-04",
        "2021-05",
        "2021-06",
        "2021-07",
        "2021-08",
        "2021-09",
        "2020-11",
        "2020-12",
        "2021-11"
       ],
       "description": "Month :",
       "index": 5,
       "layout": "IPY_MODEL_9930e4c221f54f868cfc37551727f6ab",
       "style": "IPY_MODEL_30ac602a0af54796ab4bee1b93163544"
      }
     },
     "a390dcde2e62476bb59c77daf42b8fed": {
      "model_module": "@jupyter-widgets/controls",
      "model_module_version": "1.5.0",
      "model_name": "DescriptionStyleModel",
      "state": {
       "description_width": ""
      }
     },
     "a3ea449d9a0d4d14a9461c6fbe84cf58": {
      "model_module": "@jupyter-widgets/controls",
      "model_module_version": "1.5.0",
      "model_name": "DropdownModel",
      "state": {
       "_options_labels": [
        "2019-11",
        "2019-12",
        "2020-01",
        "2020-02",
        "2020-03",
        "2020-04",
        "2020-05",
        "2020-06",
        "2020-07",
        "2020-08",
        "2020-09",
        "2021-01",
        "2021-02",
        "2021-03",
        "2021-04",
        "2021-05",
        "2021-06",
        "2021-07",
        "2021-08",
        "2021-09",
        "2020-11",
        "2020-12",
        "2021-11"
       ],
       "description": "Month :",
       "index": 17,
       "layout": "IPY_MODEL_9408a1d886f2491a9162efb625e0651c",
       "style": "IPY_MODEL_01cc51d68f354313bed8c4de161f3fd4"
      }
     },
     "a444ba84431f4c42bdb2e56b6b48c2e0": {
      "model_module": "@jupyter-widgets/controls",
      "model_module_version": "1.5.0",
      "model_name": "DescriptionStyleModel",
      "state": {
       "description_width": ""
      }
     },
     "a4c203bbcee74c27b0643a81f05c8968": {
      "model_module": "@jupyter-widgets/base",
      "model_module_version": "1.2.0",
      "model_name": "LayoutModel",
      "state": {
       "height": "10px"
      }
     },
     "a5a521c217494615aedda4c0d08df80f": {
      "model_module": "@jupyter-widgets/controls",
      "model_module_version": "1.5.0",
      "model_name": "DescriptionStyleModel",
      "state": {
       "description_width": ""
      }
     },
     "a6dc3257890849f1bea09415c0715300": {
      "model_module": "@jupyter-widgets/controls",
      "model_module_version": "1.5.0",
      "model_name": "DescriptionStyleModel",
      "state": {
       "description_width": ""
      }
     },
     "a70c66d8ebae431aa163da6dfbc9c411": {
      "model_module": "@jupyter-widgets/base",
      "model_module_version": "1.2.0",
      "model_name": "LayoutModel",
      "state": {}
     },
     "a7d6c707e09c4e12a7d0c2f0bb6fab1a": {
      "model_module": "@jupyter-widgets/output",
      "model_module_version": "1.0.0",
      "model_name": "OutputModel",
      "state": {
       "layout": "IPY_MODEL_07aa041dd029413fa5a1a17f19181092"
      }
     },
     "a94a6958290148438d380897945a8abe": {
      "model_module": "@jupyter-widgets/base",
      "model_module_version": "1.2.0",
      "model_name": "LayoutModel",
      "state": {}
     },
     "a9f96111852f49de817a6c025276c8d8": {
      "model_module": "@jupyter-widgets/controls",
      "model_module_version": "1.5.0",
      "model_name": "DescriptionStyleModel",
      "state": {
       "description_width": ""
      }
     },
     "aa133f13f94e4e01a8fffba8b2fd4d9a": {
      "model_module": "@jupyter-widgets/base",
      "model_module_version": "1.2.0",
      "model_name": "LayoutModel",
      "state": {}
     },
     "ab9368b4de8c4d2db25ad01aa580ea9d": {
      "model_module": "@jupyter-widgets/controls",
      "model_module_version": "1.5.0",
      "model_name": "DropdownModel",
      "state": {
       "_options_labels": [
        "2019-11",
        "2019-12",
        "2020-01",
        "2020-02",
        "2020-03",
        "2020-04",
        "2020-05",
        "2020-06",
        "2020-07",
        "2020-08",
        "2020-09",
        "2020-11",
        "2020-12",
        "2021-01",
        "2021-02",
        "2021-03",
        "2021-04",
        "2021-05",
        "2021-06",
        "2021-07",
        "2021-08",
        "2021-09",
        "2021-11"
       ],
       "description": "Month :",
       "index": 13,
       "layout": "IPY_MODEL_37a289f02e3d4d888a9720d9de5b6f9f",
       "style": "IPY_MODEL_b8d05e61a6bf438ea765ebbd46cb7882"
      }
     },
     "aca1f7190aeb46049e6c5078223bcb6b": {
      "model_module": "@jupyter-widgets/base",
      "model_module_version": "1.2.0",
      "model_name": "LayoutModel",
      "state": {
       "height": "300px"
      }
     },
     "ae86a951da44410a99d7846ab8608cd1": {
      "model_module": "@jupyter-widgets/controls",
      "model_module_version": "1.5.0",
      "model_name": "DropdownModel",
      "state": {
       "_options_labels": [
        "2019-11",
        "2019-12",
        "2020-01",
        "2020-02",
        "2020-03",
        "2020-04",
        "2020-05",
        "2020-06",
        "2020-07",
        "2020-08",
        "2020-09",
        "2021-01",
        "2021-02",
        "2021-03",
        "2021-04",
        "2021-05",
        "2021-06",
        "2021-07",
        "2021-08",
        "2021-09",
        "2020-11",
        "2020-12",
        "2021-11"
       ],
       "description": "Month :",
       "index": 19,
       "layout": "IPY_MODEL_aa133f13f94e4e01a8fffba8b2fd4d9a",
       "style": "IPY_MODEL_424d01b21df64b29b7f442abb7197c1b"
      }
     },
     "af1a1c4b03d045b6a8d6ed1b07e5cc32": {
      "model_module": "@jupyter-widgets/base",
      "model_module_version": "1.2.0",
      "model_name": "LayoutModel",
      "state": {}
     },
     "afd2f82b8bdd4216a7f11cd8494b4c1d": {
      "model_module": "@jupyter-widgets/base",
      "model_module_version": "1.2.0",
      "model_name": "LayoutModel",
      "state": {
       "height": "10px"
      }
     },
     "b13b67015cfb4514970e232631d06588": {
      "model_module": "@jupyter-widgets/controls",
      "model_module_version": "1.5.0",
      "model_name": "DropdownModel",
      "state": {
       "_options_labels": [
        "2019-11",
        "2019-12",
        "2020-01",
        "2020-02",
        "2020-03",
        "2020-04",
        "2020-05",
        "2020-06",
        "2020-07",
        "2020-08",
        "2020-09",
        "2021-01",
        "2021-02",
        "2021-03",
        "2021-04",
        "2021-05",
        "2021-06",
        "2021-07",
        "2021-08",
        "2021-09",
        "2020-11",
        "2020-12",
        "2021-11"
       ],
       "description": "Month :",
       "index": 18,
       "layout": "IPY_MODEL_34912e7f1856482badfd93988a8984d4",
       "style": "IPY_MODEL_12d4708344e5462e9857f6c0fd93498f"
      }
     },
     "b281a887edb34578a07de3ca9cba8a0f": {
      "model_module": "@jupyter-widgets/base",
      "model_module_version": "1.2.0",
      "model_name": "LayoutModel",
      "state": {
       "height": "10px"
      }
     },
     "b2d8eeb63b474966aa1223072d178300": {
      "model_module": "@jupyter-widgets/controls",
      "model_module_version": "1.5.0",
      "model_name": "DescriptionStyleModel",
      "state": {
       "description_width": ""
      }
     },
     "b52e7ec6de2343898729f8f44fbf2b98": {
      "model_module": "@jupyter-widgets/base",
      "model_module_version": "1.2.0",
      "model_name": "LayoutModel",
      "state": {}
     },
     "b7286b04453f497bb486dfbcafa6a00c": {
      "model_module": "@jupyter-widgets/controls",
      "model_module_version": "1.5.0",
      "model_name": "DropdownModel",
      "state": {
       "_options_labels": [
        "2019-11",
        "2019-12",
        "2020-01",
        "2020-02",
        "2020-03",
        "2020-04",
        "2020-05",
        "2020-06",
        "2020-07",
        "2020-08",
        "2020-09",
        "2020-11",
        "2020-12",
        "2021-01",
        "2021-02",
        "2021-03",
        "2021-04",
        "2021-05",
        "2021-06",
        "2021-07",
        "2021-08",
        "2021-09",
        "2021-11"
       ],
       "description": "Month :",
       "index": 11,
       "layout": "IPY_MODEL_6e1efb5246f045a2b7e212d5e7bdaf6e",
       "style": "IPY_MODEL_b7bca01f2ff04f1894ead85c8c8f2b80"
      }
     },
     "b7bca01f2ff04f1894ead85c8c8f2b80": {
      "model_module": "@jupyter-widgets/controls",
      "model_module_version": "1.5.0",
      "model_name": "DescriptionStyleModel",
      "state": {
       "description_width": ""
      }
     },
     "b7cc7f213a65487dba58ec9c03395736": {
      "model_module": "@jupyter-widgets/controls",
      "model_module_version": "1.5.0",
      "model_name": "DropdownModel",
      "state": {
       "_options_labels": [
        "2019-11",
        "2019-12",
        "2020-01",
        "2020-02",
        "2020-03",
        "2020-04",
        "2020-05",
        "2020-06",
        "2020-07",
        "2020-08",
        "2020-09",
        "2021-01",
        "2021-02",
        "2021-03",
        "2021-04",
        "2021-05",
        "2021-06",
        "2021-07",
        "2021-08",
        "2021-09",
        "2020-11",
        "2020-12",
        "2021-11"
       ],
       "description": "Month :",
       "index": 18,
       "layout": "IPY_MODEL_4205f77fc6114c3caecbded0030e1969",
       "style": "IPY_MODEL_ff8f1f432ee047479b4980fb5d4349e0"
      }
     },
     "b8d05e61a6bf438ea765ebbd46cb7882": {
      "model_module": "@jupyter-widgets/controls",
      "model_module_version": "1.5.0",
      "model_name": "DescriptionStyleModel",
      "state": {
       "description_width": ""
      }
     },
     "b9b2dfa7fc2244cc824cd0b18c1f6193": {
      "model_module": "@jupyter-widgets/controls",
      "model_module_version": "1.5.0",
      "model_name": "DropdownModel",
      "state": {
       "_options_labels": [
        "2019-11",
        "2019-12",
        "2020-01",
        "2020-02",
        "2020-03",
        "2020-04",
        "2020-05",
        "2020-06",
        "2020-07",
        "2020-08",
        "2020-09",
        "2021-01",
        "2021-02",
        "2021-03",
        "2021-04",
        "2021-05",
        "2021-06",
        "2021-07",
        "2021-08",
        "2021-09",
        "2020-11",
        "2020-12",
        "2021-11"
       ],
       "description": "Month :",
       "index": 18,
       "layout": "IPY_MODEL_7eabe8d60ac04678bb1a62785524f91e",
       "style": "IPY_MODEL_a390dcde2e62476bb59c77daf42b8fed"
      }
     },
     "bc95acbdff3b4d0cb6e35ee6a8c09f55": {
      "model_module": "@jupyter-widgets/base",
      "model_module_version": "1.2.0",
      "model_name": "LayoutModel",
      "state": {}
     },
     "bd3da808697b4f2faa30cfc155682563": {
      "model_module": "@jupyter-widgets/controls",
      "model_module_version": "1.5.0",
      "model_name": "DescriptionStyleModel",
      "state": {
       "description_width": ""
      }
     },
     "bdbb72edf096446985134c43c64ba091": {
      "model_module": "@jupyter-widgets/base",
      "model_module_version": "1.2.0",
      "model_name": "LayoutModel",
      "state": {}
     },
     "be1b3a7ab0c646819ad163623140c8d7": {
      "model_module": "@jupyter-widgets/base",
      "model_module_version": "1.2.0",
      "model_name": "LayoutModel",
      "state": {
       "height": "10px"
      }
     },
     "be301033473f4062980c8532629fa50d": {
      "model_module": "@jupyter-widgets/controls",
      "model_module_version": "1.5.0",
      "model_name": "DropdownModel",
      "state": {
       "_options_labels": [
        "2019-11",
        "2019-12",
        "2020-01",
        "2020-02",
        "2020-03",
        "2020-04",
        "2020-05",
        "2020-06",
        "2020-07",
        "2020-08",
        "2020-09",
        "2020-11",
        "2020-12",
        "2021-01",
        "2021-02",
        "2021-03",
        "2021-04",
        "2021-05",
        "2021-06",
        "2021-07",
        "2021-08",
        "2021-09",
        "2021-11"
       ],
       "description": "Month :",
       "index": 11,
       "layout": "IPY_MODEL_a70c66d8ebae431aa163da6dfbc9c411",
       "style": "IPY_MODEL_83e258c55554446e8713fc09e4868df1"
      }
     },
     "be66e7fc5a6540938d1708e3ef17bf42": {
      "model_module": "@jupyter-widgets/controls",
      "model_module_version": "1.5.0",
      "model_name": "DropdownModel",
      "state": {
       "_options_labels": [
        "2019-11",
        "2019-12",
        "2020-01",
        "2020-02",
        "2020-03",
        "2020-04",
        "2020-05",
        "2020-06",
        "2020-07",
        "2020-08",
        "2020-09",
        "2020-11",
        "2020-12",
        "2021-01",
        "2021-02",
        "2021-03",
        "2021-04",
        "2021-05",
        "2021-06",
        "2021-07",
        "2021-08",
        "2021-09",
        "2021-11"
       ],
       "description": "Month :",
       "index": 8,
       "layout": "IPY_MODEL_eab2c24d6e7b4111a159c2aec5721da9",
       "style": "IPY_MODEL_0de3c88590c4486184336592fc8aa49b"
      }
     },
     "bf1ae2f25a13410490bda6d1ed0051ea": {
      "model_module": "@jupyter-widgets/controls",
      "model_module_version": "1.5.0",
      "model_name": "DescriptionStyleModel",
      "state": {
       "description_width": ""
      }
     },
     "c1bad9c4eb734d4a80a7404bad1d4ad8": {
      "model_module": "@jupyter-widgets/controls",
      "model_module_version": "1.5.0",
      "model_name": "DropdownModel",
      "state": {
       "_options_labels": [
        "2019-11",
        "2019-12",
        "2020-01",
        "2020-02",
        "2020-03",
        "2020-04",
        "2020-05",
        "2020-06",
        "2020-07",
        "2020-08",
        "2020-09",
        "2020-11",
        "2020-12",
        "2021-01",
        "2021-02",
        "2021-03",
        "2021-04",
        "2021-05",
        "2021-06",
        "2021-07",
        "2021-08",
        "2021-09",
        "2021-11"
       ],
       "description": "Month :",
       "index": 12,
       "layout": "IPY_MODEL_7dfb1b45547549efb08b88d0270025de",
       "style": "IPY_MODEL_7e5a41f7589a486394eba552422d440c"
      }
     },
     "c1d852a030444760a3fa16872271813b": {
      "model_module": "@jupyter-widgets/controls",
      "model_module_version": "1.5.0",
      "model_name": "DescriptionStyleModel",
      "state": {
       "description_width": ""
      }
     },
     "c3a1df1fca944e1ab6cbae0b8c8356a1": {
      "model_module": "@jupyter-widgets/controls",
      "model_module_version": "1.5.0",
      "model_name": "DescriptionStyleModel",
      "state": {
       "description_width": ""
      }
     },
     "c3a4f1cf826d4c48a4dbe33749be3310": {
      "model_module": "@jupyter-widgets/controls",
      "model_module_version": "1.5.0",
      "model_name": "DescriptionStyleModel",
      "state": {
       "description_width": ""
      }
     },
     "c4434a48588744afb8a92dc64f6dbabb": {
      "model_module": "@jupyter-widgets/controls",
      "model_module_version": "1.5.0",
      "model_name": "DescriptionStyleModel",
      "state": {
       "description_width": ""
      }
     },
     "c561bb75fbce4661802452a72a1dd900": {
      "model_module": "@jupyter-widgets/base",
      "model_module_version": "1.2.0",
      "model_name": "LayoutModel",
      "state": {}
     },
     "c5dd9a2e34324d9f9bcc2cfd554620c6": {
      "model_module": "@jupyter-widgets/controls",
      "model_module_version": "1.5.0",
      "model_name": "DescriptionStyleModel",
      "state": {
       "description_width": ""
      }
     },
     "c67ff3a597154500b9ebfa28c4e43e76": {
      "model_module": "@jupyter-widgets/controls",
      "model_module_version": "1.5.0",
      "model_name": "DropdownModel",
      "state": {
       "_options_labels": [
        "Anti-social behaviour",
        "Criminal damage and arson",
        "Violence and sexual offences",
        "Other theft",
        "Public order",
        "Robbery",
        "Burglary",
        "Shoplifting",
        "Theft from the person",
        "Other crime",
        "Possession of weapons",
        "Vehicle crime",
        "Drugs",
        "Bicycle theft"
       ],
       "description": "Crime Type :",
       "index": 5,
       "layout": "IPY_MODEL_5b57d5bd868b4672b4ecf989ce35edb3",
       "style": "IPY_MODEL_71933396f5894328ba3053814fc93d57"
      }
     },
     "c7188fe16e6a4fe69d75befc3734d90a": {
      "model_module": "@jupyter-widgets/controls",
      "model_module_version": "1.5.0",
      "model_name": "DropdownModel",
      "state": {
       "_options_labels": [
        "2019-11",
        "2019-12",
        "2020-01",
        "2020-02",
        "2020-03",
        "2020-04",
        "2020-05",
        "2020-06",
        "2020-07",
        "2020-08",
        "2020-09",
        "2021-01",
        "2021-02",
        "2021-03",
        "2021-04",
        "2021-05",
        "2021-06",
        "2021-07",
        "2021-08",
        "2021-09",
        "2020-11",
        "2020-12",
        "2021-11"
       ],
       "description": "Month :",
       "index": 20,
       "layout": "IPY_MODEL_71a94eea5f73406cbb12f5d529d7df25",
       "style": "IPY_MODEL_cce145e8942941c7a8d97b54a2c6d2da"
      }
     },
     "c72d2d356f0745e39d070254350c50e9": {
      "model_module": "@jupyter-widgets/controls",
      "model_module_version": "1.5.0",
      "model_name": "DropdownModel",
      "state": {
       "_options_labels": [
        "2019-11",
        "2019-12",
        "2020-01",
        "2020-02",
        "2020-03",
        "2020-04",
        "2020-05",
        "2020-06",
        "2020-07",
        "2020-08",
        "2020-09",
        "2021-01",
        "2021-02",
        "2021-03",
        "2021-04",
        "2021-05",
        "2021-06",
        "2021-07",
        "2021-08",
        "2021-09",
        "2020-11",
        "2020-12",
        "2021-11"
       ],
       "description": "Month :",
       "index": 0,
       "layout": "IPY_MODEL_fc50c5a0cf7c4b9db175db0909b3f9ef",
       "style": "IPY_MODEL_0a2cd83fe81e49ea87c4a3b95e0f9c6a"
      }
     },
     "c8ab424ccce14c0d811c9800f1894ebc": {
      "model_module": "@jupyter-widgets/controls",
      "model_module_version": "1.5.0",
      "model_name": "DescriptionStyleModel",
      "state": {
       "description_width": ""
      }
     },
     "c94dfb5b83ed4901949222268b21487c": {
      "model_module": "@jupyter-widgets/controls",
      "model_module_version": "1.5.0",
      "model_name": "DropdownModel",
      "state": {
       "_options_labels": [
        "2019-11",
        "2019-12",
        "2020-01",
        "2020-02",
        "2020-03",
        "2020-04",
        "2020-05",
        "2020-06",
        "2020-07",
        "2020-08",
        "2020-09",
        "2020-11",
        "2020-12",
        "2021-01",
        "2021-02",
        "2021-03",
        "2021-04",
        "2021-05",
        "2021-06",
        "2021-07",
        "2021-08",
        "2021-09",
        "2021-11"
       ],
       "description": "Month :",
       "index": 14,
       "layout": "IPY_MODEL_5621d2630cef4374bad8bb525f1ab082",
       "style": "IPY_MODEL_1ff4460c43be4fa7b22b0254824f52b6"
      }
     },
     "c9a8814942f643b0a1ea3bb89ff7a620": {
      "model_module": "@jupyter-widgets/controls",
      "model_module_version": "1.5.0",
      "model_name": "DescriptionStyleModel",
      "state": {
       "description_width": ""
      }
     },
     "c9c32163b1db4b919e6efb877ae5479d": {
      "model_module": "@jupyter-widgets/controls",
      "model_module_version": "1.5.0",
      "model_name": "DropdownModel",
      "state": {
       "_options_labels": [
        "2019-11",
        "2019-12",
        "2020-01",
        "2020-02",
        "2020-03",
        "2020-04",
        "2020-05",
        "2020-06",
        "2020-07",
        "2020-08",
        "2020-09",
        "2021-01",
        "2021-02",
        "2021-03",
        "2021-04",
        "2021-05",
        "2021-06",
        "2021-07",
        "2021-08",
        "2021-09",
        "2020-11",
        "2020-12",
        "2021-11"
       ],
       "description": "Month :",
       "index": 9,
       "layout": "IPY_MODEL_23154d73c38e4ebd895a8c74a3555bc7",
       "style": "IPY_MODEL_b2d8eeb63b474966aa1223072d178300"
      }
     },
     "c9cb65cc105040959357feae9df728d1": {
      "model_module": "@jupyter-widgets/controls",
      "model_module_version": "1.5.0",
      "model_name": "DescriptionStyleModel",
      "state": {
       "description_width": ""
      }
     },
     "cac569a35a8548f28f9c5b40d9da1262": {
      "model_module": "@jupyter-widgets/controls",
      "model_module_version": "1.5.0",
      "model_name": "DropdownModel",
      "state": {
       "_options_labels": [
        "2019-11",
        "2019-12",
        "2020-01",
        "2020-02",
        "2020-03",
        "2020-04",
        "2020-05",
        "2020-06",
        "2020-07",
        "2020-08",
        "2020-09",
        "2021-01",
        "2021-02",
        "2021-03",
        "2021-04",
        "2021-05",
        "2021-06",
        "2021-07",
        "2021-08",
        "2021-09",
        "2020-11",
        "2020-12",
        "2021-11"
       ],
       "description": "Month :",
       "index": 16,
       "layout": "IPY_MODEL_440a1c8628174bd898e15a0a355be756",
       "style": "IPY_MODEL_a6dc3257890849f1bea09415c0715300"
      }
     },
     "cafae574bff94084b80206c0178492b8": {
      "model_module": "@jupyter-widgets/base",
      "model_module_version": "1.2.0",
      "model_name": "LayoutModel",
      "state": {}
     },
     "cc37993431c24672ab6882ae98d5c742": {
      "model_module": "@jupyter-widgets/base",
      "model_module_version": "1.2.0",
      "model_name": "LayoutModel",
      "state": {}
     },
     "cce145e8942941c7a8d97b54a2c6d2da": {
      "model_module": "@jupyter-widgets/controls",
      "model_module_version": "1.5.0",
      "model_name": "DescriptionStyleModel",
      "state": {
       "description_width": ""
      }
     },
     "cfe9187735fa46da947713023d8566d9": {
      "model_module": "@jupyter-widgets/controls",
      "model_module_version": "1.5.0",
      "model_name": "DescriptionStyleModel",
      "state": {
       "description_width": ""
      }
     },
     "d0bb403ffc984909b5549e7249fa4c30": {
      "model_module": "@jupyter-widgets/controls",
      "model_module_version": "1.5.0",
      "model_name": "DescriptionStyleModel",
      "state": {
       "description_width": ""
      }
     },
     "d2c7fca9363c41a688ee36eedc9baf10": {
      "model_module": "@jupyter-widgets/controls",
      "model_module_version": "1.5.0",
      "model_name": "DescriptionStyleModel",
      "state": {
       "description_width": ""
      }
     },
     "d5dfc10a6a8c4c809e5f2afb44f8d23f": {
      "model_module": "@jupyter-widgets/controls",
      "model_module_version": "1.5.0",
      "model_name": "DropdownModel",
      "state": {
       "_options_labels": [
        "2019-11",
        "2019-12",
        "2020-01",
        "2020-02",
        "2020-03",
        "2020-04",
        "2020-05",
        "2020-06",
        "2020-07",
        "2020-08",
        "2020-09",
        "2020-11",
        "2020-12",
        "2021-01",
        "2021-02",
        "2021-03",
        "2021-04",
        "2021-05",
        "2021-06",
        "2021-07",
        "2021-08",
        "2021-09",
        "2021-11"
       ],
       "description": "Month :",
       "index": 11,
       "layout": "IPY_MODEL_05ebbca3357943ebbeb13fa03c265de4",
       "style": "IPY_MODEL_9bf303b9732246c5a683455d7f85ae8c"
      }
     },
     "d81daebfd419477ab02cebe3726aa645": {
      "model_module": "@jupyter-widgets/base",
      "model_module_version": "1.2.0",
      "model_name": "LayoutModel",
      "state": {}
     },
     "d8b7ae0b03484f08b4554f0e0b4258d1": {
      "model_module": "@jupyter-widgets/controls",
      "model_module_version": "1.5.0",
      "model_name": "DropdownModel",
      "state": {
       "_options_labels": [
        "2019-11",
        "2019-12",
        "2020-01",
        "2020-02",
        "2020-03",
        "2020-04",
        "2020-05",
        "2020-06",
        "2020-07",
        "2020-08",
        "2020-09",
        "2020-11",
        "2020-12",
        "2021-01",
        "2021-02",
        "2021-03",
        "2021-04",
        "2021-05",
        "2021-06",
        "2021-07",
        "2021-08",
        "2021-09",
        "2021-11"
       ],
       "description": "Month :",
       "index": 9,
       "layout": "IPY_MODEL_bdbb72edf096446985134c43c64ba091",
       "style": "IPY_MODEL_1feba2038ee84bdba4b192c32301fcc0"
      }
     },
     "d8e1750911ef4cc09ff736a677f6fb6f": {
      "model_module": "@jupyter-widgets/base",
      "model_module_version": "1.2.0",
      "model_name": "LayoutModel",
      "state": {}
     },
     "da0fe8f84443495cb6fbb9f2d8edcd8c": {
      "model_module": "@jupyter-widgets/base",
      "model_module_version": "1.2.0",
      "model_name": "LayoutModel",
      "state": {}
     },
     "da72e0ac3b474170a72cd850e33a0bd0": {
      "model_module": "@jupyter-widgets/base",
      "model_module_version": "1.2.0",
      "model_name": "LayoutModel",
      "state": {}
     },
     "db489f0b7b11447a88f1813a71decf6b": {
      "model_module": "@jupyter-widgets/controls",
      "model_module_version": "1.5.0",
      "model_name": "DropdownModel",
      "state": {
       "_options_labels": [
        "2019-11",
        "2019-12",
        "2020-01",
        "2020-02",
        "2020-03",
        "2020-04",
        "2020-05",
        "2020-06",
        "2020-07",
        "2020-08",
        "2020-09",
        "2020-11",
        "2020-12",
        "2021-01",
        "2021-02",
        "2021-03",
        "2021-04",
        "2021-05",
        "2021-06",
        "2021-07",
        "2021-08",
        "2021-09",
        "2021-11"
       ],
       "description": "Month :",
       "index": 8,
       "layout": "IPY_MODEL_da0fe8f84443495cb6fbb9f2d8edcd8c",
       "style": "IPY_MODEL_dc38284bf98c48b4b312c870f29372e9"
      }
     },
     "dbe14b8a17a647ddb98e0bfd93826162": {
      "model_module": "@jupyter-widgets/base",
      "model_module_version": "1.2.0",
      "model_name": "LayoutModel",
      "state": {}
     },
     "dc2d5f1475bf451bb96cca18141c6697": {
      "model_module": "@jupyter-widgets/controls",
      "model_module_version": "1.5.0",
      "model_name": "DescriptionStyleModel",
      "state": {
       "description_width": ""
      }
     },
     "dc355d4b25f64f42833b63993fdae8ad": {
      "model_module": "@jupyter-widgets/controls",
      "model_module_version": "1.5.0",
      "model_name": "DropdownModel",
      "state": {
       "_options_labels": [
        "2019-11",
        "2019-12",
        "2020-01",
        "2020-02",
        "2020-03",
        "2020-04",
        "2020-05",
        "2020-06",
        "2020-07",
        "2020-08",
        "2020-09",
        "2020-11",
        "2020-12",
        "2021-01",
        "2021-02",
        "2021-03",
        "2021-04",
        "2021-05",
        "2021-06",
        "2021-07",
        "2021-08",
        "2021-09",
        "2021-11"
       ],
       "description": "Month :",
       "index": 13,
       "layout": "IPY_MODEL_fe561fb54ef54133a0e2ff1f3262198f",
       "style": "IPY_MODEL_8f2c86f318cd4a57b6fc998bfecf17f1"
      }
     },
     "dc38284bf98c48b4b312c870f29372e9": {
      "model_module": "@jupyter-widgets/controls",
      "model_module_version": "1.5.0",
      "model_name": "DescriptionStyleModel",
      "state": {
       "description_width": ""
      }
     },
     "dc81f5f44f2744adb6def05a0a70f31c": {
      "model_module": "@jupyter-widgets/base",
      "model_module_version": "1.2.0",
      "model_name": "LayoutModel",
      "state": {}
     },
     "df98ded7796a49fa8824d7355eaca626": {
      "model_module": "@jupyter-widgets/base",
      "model_module_version": "1.2.0",
      "model_name": "LayoutModel",
      "state": {
       "height": "10px"
      }
     },
     "e0b3e33c5b164d7ab834ca62e2ee5a5b": {
      "model_module": "@jupyter-widgets/controls",
      "model_module_version": "1.5.0",
      "model_name": "DescriptionStyleModel",
      "state": {
       "description_width": ""
      }
     },
     "e26392d54cf94c05a9423889da9fac42": {
      "model_module": "@jupyter-widgets/base",
      "model_module_version": "1.2.0",
      "model_name": "LayoutModel",
      "state": {}
     },
     "e36b79df22244831aa44ef3f5164f723": {
      "model_module": "@jupyter-widgets/controls",
      "model_module_version": "1.5.0",
      "model_name": "DropdownModel",
      "state": {
       "_options_labels": [
        "2019-11",
        "2019-12",
        "2020-01",
        "2020-02",
        "2020-03",
        "2020-04",
        "2020-05",
        "2020-06",
        "2020-07",
        "2020-08",
        "2020-09",
        "2020-11",
        "2020-12",
        "2021-01",
        "2021-02",
        "2021-03",
        "2021-04",
        "2021-05",
        "2021-06",
        "2021-07",
        "2021-08",
        "2021-09",
        "2021-11"
       ],
       "description": "Month :",
       "index": 8,
       "layout": "IPY_MODEL_8445ad10edd34efabf11f7bd09fda424",
       "style": "IPY_MODEL_fcf641ae36114826bc676a55ca1ded6d"
      }
     },
     "e3d042bbaa674effa13bdc9cfe355646": {
      "model_module": "@jupyter-widgets/output",
      "model_module_version": "1.0.0",
      "model_name": "OutputModel",
      "state": {
       "layout": "IPY_MODEL_2026522774e54e368d67d4bbbfbfee14"
      }
     },
     "e464cab9d38d4dc9a6a128b44b965711": {
      "model_module": "@jupyter-widgets/base",
      "model_module_version": "1.2.0",
      "model_name": "LayoutModel",
      "state": {}
     },
     "e98cea9e57a540c8867db340cc66ef35": {
      "model_module": "@jupyter-widgets/controls",
      "model_module_version": "1.5.0",
      "model_name": "DescriptionStyleModel",
      "state": {
       "description_width": ""
      }
     },
     "e9b62e5158634cda8b26d131a19fdd1c": {
      "model_module": "@jupyter-widgets/controls",
      "model_module_version": "1.5.0",
      "model_name": "DescriptionStyleModel",
      "state": {
       "description_width": ""
      }
     },
     "eab2c24d6e7b4111a159c2aec5721da9": {
      "model_module": "@jupyter-widgets/base",
      "model_module_version": "1.2.0",
      "model_name": "LayoutModel",
      "state": {}
     },
     "eb417ec552d94b76b1930c6a30bb2a20": {
      "model_module": "@jupyter-widgets/base",
      "model_module_version": "1.2.0",
      "model_name": "LayoutModel",
      "state": {}
     },
     "eb5d4430478f4ffbad8fb0ba1034b52b": {
      "model_module": "@jupyter-widgets/base",
      "model_module_version": "1.2.0",
      "model_name": "LayoutModel",
      "state": {}
     },
     "eb5f0bfea77243d2a02a0a743ec69ac1": {
      "model_module": "@jupyter-widgets/output",
      "model_module_version": "1.0.0",
      "model_name": "OutputModel",
      "state": {
       "layout": "IPY_MODEL_afd2f82b8bdd4216a7f11cd8494b4c1d"
      }
     },
     "ec0706b796c04e66b299f703d4c7efc3": {
      "model_module": "@jupyter-widgets/controls",
      "model_module_version": "1.5.0",
      "model_name": "DropdownModel",
      "state": {
       "_options_labels": [
        "2019-11",
        "2019-12",
        "2020-01",
        "2020-02",
        "2020-03",
        "2020-04",
        "2020-05",
        "2020-06",
        "2020-07",
        "2020-08",
        "2020-09",
        "2021-01",
        "2021-02",
        "2021-03",
        "2021-04",
        "2021-05",
        "2021-06",
        "2021-07",
        "2021-08",
        "2021-09",
        "2020-11",
        "2020-12",
        "2021-11"
       ],
       "description": "Month :",
       "index": 20,
       "layout": "IPY_MODEL_21dfa2c6cb6142068d9edc365f1b3792",
       "style": "IPY_MODEL_e0b3e33c5b164d7ab834ca62e2ee5a5b"
      }
     },
     "ed0363dedb164c75bf7b5bd3755462d2": {
      "model_module": "@jupyter-widgets/output",
      "model_module_version": "1.0.0",
      "model_name": "OutputModel",
      "state": {
       "layout": "IPY_MODEL_a4c203bbcee74c27b0643a81f05c8968"
      }
     },
     "ed80cec76e4149b8b09d47aa8a7a503d": {
      "model_module": "@jupyter-widgets/controls",
      "model_module_version": "1.5.0",
      "model_name": "DropdownModel",
      "state": {
       "_options_labels": [
        "2019-11",
        "2019-12",
        "2020-01",
        "2020-02",
        "2020-03",
        "2020-04",
        "2020-05",
        "2020-06",
        "2020-07",
        "2020-08",
        "2020-09",
        "2021-01",
        "2021-02",
        "2021-03",
        "2021-04",
        "2021-05",
        "2021-06",
        "2021-07",
        "2021-08",
        "2021-09",
        "2020-11",
        "2020-12",
        "2021-11"
       ],
       "description": "Month :",
       "index": 0,
       "layout": "IPY_MODEL_dbe14b8a17a647ddb98e0bfd93826162",
       "style": "IPY_MODEL_15b7b1164c89489495cd601515a45ad3"
      }
     },
     "ef7a4752a77c47a0a438ce10906024e6": {
      "model_module": "@jupyter-widgets/base",
      "model_module_version": "1.2.0",
      "model_name": "LayoutModel",
      "state": {}
     },
     "efa9787512094d80bbb710a1ff31a6f3": {
      "model_module": "@jupyter-widgets/controls",
      "model_module_version": "1.5.0",
      "model_name": "DropdownModel",
      "state": {
       "_options_labels": [
        "2019-11",
        "2019-12",
        "2020-01",
        "2020-02",
        "2020-03",
        "2020-04",
        "2020-05",
        "2020-06",
        "2020-07",
        "2020-08",
        "2020-09",
        "2021-01",
        "2021-02",
        "2021-03",
        "2021-04",
        "2021-05",
        "2021-06",
        "2021-07",
        "2021-08",
        "2021-09",
        "2020-11",
        "2020-12",
        "2021-11"
       ],
       "description": "Task:",
       "index": 18,
       "layout": "IPY_MODEL_f6d425742d8b4461bc8c71a3c9e47431",
       "style": "IPY_MODEL_4ec35ceccf6c441b98fbe124e6e12f07"
      }
     },
     "f4f90b502f7e4ea198c4fc5ae6f9cab8": {
      "model_module": "@jupyter-widgets/base",
      "model_module_version": "1.2.0",
      "model_name": "LayoutModel",
      "state": {
       "height": "10px"
      }
     },
     "f58647f859d048afaca652bab91b3acc": {
      "model_module": "@jupyter-widgets/controls",
      "model_module_version": "1.5.0",
      "model_name": "DropdownModel",
      "state": {
       "_options_labels": [
        "2019-11",
        "2019-12",
        "2020-01",
        "2020-02",
        "2020-03",
        "2020-04",
        "2020-05",
        "2020-06",
        "2020-07",
        "2020-08",
        "2020-09",
        "2020-11",
        "2020-12",
        "2021-01",
        "2021-02",
        "2021-03",
        "2021-04",
        "2021-05",
        "2021-06",
        "2021-07",
        "2021-08",
        "2021-09",
        "2021-11"
       ],
       "description": "Month :",
       "index": 9,
       "layout": "IPY_MODEL_0845f1d70cb4457d8e668e644c287670",
       "style": "IPY_MODEL_bd3da808697b4f2faa30cfc155682563"
      }
     },
     "f6b5a9b26bdd4680a2a04fdeb099b444": {
      "model_module": "@jupyter-widgets/base",
      "model_module_version": "1.2.0",
      "model_name": "LayoutModel",
      "state": {}
     },
     "f6d425742d8b4461bc8c71a3c9e47431": {
      "model_module": "@jupyter-widgets/base",
      "model_module_version": "1.2.0",
      "model_name": "LayoutModel",
      "state": {}
     },
     "f7bd102f120e4b0fa1dc231f1c4ba3e1": {
      "model_module": "@jupyter-widgets/controls",
      "model_module_version": "1.5.0",
      "model_name": "DescriptionStyleModel",
      "state": {
       "description_width": ""
      }
     },
     "f8cf9ef60f68493886e50f863151a476": {
      "model_module": "@jupyter-widgets/controls",
      "model_module_version": "1.5.0",
      "model_name": "DescriptionStyleModel",
      "state": {
       "description_width": ""
      }
     },
     "f8e0a953fad54990aae3cf27c411d708": {
      "model_module": "@jupyter-widgets/controls",
      "model_module_version": "1.5.0",
      "model_name": "DropdownModel",
      "state": {
       "_options_labels": [
        "2019-11",
        "2019-12",
        "2020-01",
        "2020-02",
        "2020-03",
        "2020-04",
        "2020-05",
        "2020-06",
        "2020-07",
        "2020-08",
        "2020-09",
        "2021-01",
        "2021-02",
        "2021-03",
        "2021-04",
        "2021-05",
        "2021-06",
        "2021-07",
        "2021-08",
        "2021-09",
        "2020-11",
        "2020-12",
        "2021-11"
       ],
       "description": "Month :",
       "index": 18,
       "layout": "IPY_MODEL_3bece53d923c4bdb897793e61425de3f",
       "style": "IPY_MODEL_3b2cb39058dc46c09b41ad7790c559da"
      }
     },
     "fae5e60aa11f405aa9d1d92543799cf5": {
      "model_module": "@jupyter-widgets/controls",
      "model_module_version": "1.5.0",
      "model_name": "DescriptionStyleModel",
      "state": {
       "description_width": ""
      }
     },
     "faebd2ab555d46c0a5ab85bfc76b58df": {
      "model_module": "@jupyter-widgets/base",
      "model_module_version": "1.2.0",
      "model_name": "LayoutModel",
      "state": {}
     },
     "fc50c5a0cf7c4b9db175db0909b3f9ef": {
      "model_module": "@jupyter-widgets/base",
      "model_module_version": "1.2.0",
      "model_name": "LayoutModel",
      "state": {}
     },
     "fcb5e515ecc84b05beb36a6f214ca005": {
      "model_module": "@jupyter-widgets/controls",
      "model_module_version": "1.5.0",
      "model_name": "DescriptionStyleModel",
      "state": {
       "description_width": ""
      }
     },
     "fcf641ae36114826bc676a55ca1ded6d": {
      "model_module": "@jupyter-widgets/controls",
      "model_module_version": "1.5.0",
      "model_name": "DescriptionStyleModel",
      "state": {
       "description_width": ""
      }
     },
     "fd4b2611507c4ca59b9e9f0f53da109f": {
      "model_module": "@jupyter-widgets/controls",
      "model_module_version": "1.5.0",
      "model_name": "DescriptionStyleModel",
      "state": {
       "description_width": ""
      }
     },
     "fe4e7c38f69a468f9e94a0c85baefde7": {
      "model_module": "@jupyter-widgets/controls",
      "model_module_version": "1.5.0",
      "model_name": "DropdownModel",
      "state": {
       "_options_labels": [
        "2019-11",
        "2019-12",
        "2020-01",
        "2020-02",
        "2020-03",
        "2020-04",
        "2020-05",
        "2020-06",
        "2020-07",
        "2020-08",
        "2020-09",
        "2020-11",
        "2020-12",
        "2021-01",
        "2021-02",
        "2021-03",
        "2021-04",
        "2021-05",
        "2021-06",
        "2021-07",
        "2021-08",
        "2021-09",
        "2021-11"
       ],
       "description": "Month :",
       "index": 0,
       "layout": "IPY_MODEL_06577c3655354297bbc40ef6f6deb7df",
       "style": "IPY_MODEL_62d591b8ac954a3cb997b40bcc182bf0"
      }
     },
     "fe561fb54ef54133a0e2ff1f3262198f": {
      "model_module": "@jupyter-widgets/base",
      "model_module_version": "1.2.0",
      "model_name": "LayoutModel",
      "state": {}
     },
     "feda09c65a1841be96855a0a47ca6958": {
      "model_module": "@jupyter-widgets/controls",
      "model_module_version": "1.5.0",
      "model_name": "DropdownModel",
      "state": {
       "_options_labels": [
        "2019-11",
        "2019-12",
        "2020-01",
        "2020-02",
        "2020-03",
        "2020-04",
        "2020-05",
        "2020-06",
        "2020-07",
        "2020-08",
        "2020-09",
        "2021-01",
        "2021-02",
        "2021-03",
        "2021-04",
        "2021-05",
        "2021-06",
        "2021-07",
        "2021-08",
        "2021-09",
        "2020-11",
        "2020-12",
        "2021-11"
       ],
       "description": "Month :",
       "index": 17,
       "layout": "IPY_MODEL_38cb26aa8ce347e3aa100b97a4325fa2",
       "style": "IPY_MODEL_2203b29d779e4219a8a7fb204a78413a"
      }
     },
     "ff8f1f432ee047479b4980fb5d4349e0": {
      "model_module": "@jupyter-widgets/controls",
      "model_module_version": "1.5.0",
      "model_name": "DescriptionStyleModel",
      "state": {
       "description_width": ""
      }
     }
    },
    "version_major": 2,
    "version_minor": 0
   }
  }
 },
 "nbformat": 4,
 "nbformat_minor": 5
}
